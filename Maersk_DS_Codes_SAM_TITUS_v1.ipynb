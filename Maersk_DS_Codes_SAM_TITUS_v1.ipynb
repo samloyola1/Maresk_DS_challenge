{
  "nbformat": 4,
  "nbformat_minor": 0,
  "metadata": {
    "colab": {
      "name": "Maersk DS Codes_SAM TITUS.ipynb",
      "provenance": []
    },
    "kernelspec": {
      "name": "python3",
      "display_name": "Python 3"
    },
    "language_info": {
      "name": "python"
    },
    "widgets": {
      "application/vnd.jupyter.widget-state+json": {
        "87711b6576094cd5900d9e63dfeee394": {
          "model_module": "@jupyter-widgets/controls",
          "model_name": "IntProgressModel",
          "state": {
            "_view_name": "ProgressView",
            "style": "IPY_MODEL_0eb9a29ec2a14a8582a4499e800f172f",
            "_dom_classes": [],
            "description": "Processing: ",
            "_model_name": "IntProgressModel",
            "bar_style": "",
            "max": 3,
            "_view_module": "@jupyter-widgets/controls",
            "_model_module_version": "1.5.0",
            "value": 3,
            "_view_count": null,
            "_view_module_version": "1.5.0",
            "orientation": "horizontal",
            "min": 0,
            "description_tooltip": null,
            "_model_module": "@jupyter-widgets/controls",
            "layout": "IPY_MODEL_ad5907ed88204563875d44093993e048"
          }
        },
        "0eb9a29ec2a14a8582a4499e800f172f": {
          "model_module": "@jupyter-widgets/controls",
          "model_name": "ProgressStyleModel",
          "state": {
            "_view_name": "StyleView",
            "_model_name": "ProgressStyleModel",
            "description_width": "",
            "_view_module": "@jupyter-widgets/base",
            "_model_module_version": "1.5.0",
            "_view_count": null,
            "_view_module_version": "1.2.0",
            "bar_color": null,
            "_model_module": "@jupyter-widgets/controls"
          }
        },
        "ad5907ed88204563875d44093993e048": {
          "model_module": "@jupyter-widgets/base",
          "model_name": "LayoutModel",
          "state": {
            "_view_name": "LayoutView",
            "grid_template_rows": null,
            "right": null,
            "justify_content": null,
            "_view_module": "@jupyter-widgets/base",
            "overflow": null,
            "_model_module_version": "1.2.0",
            "_view_count": null,
            "flex_flow": null,
            "width": null,
            "min_width": null,
            "border": null,
            "align_items": null,
            "bottom": null,
            "_model_module": "@jupyter-widgets/base",
            "top": null,
            "grid_column": null,
            "overflow_y": null,
            "overflow_x": null,
            "grid_auto_flow": null,
            "grid_area": null,
            "grid_template_columns": null,
            "flex": null,
            "_model_name": "LayoutModel",
            "justify_items": null,
            "grid_row": null,
            "max_height": null,
            "align_content": null,
            "visibility": null,
            "align_self": null,
            "height": null,
            "min_height": null,
            "padding": null,
            "grid_auto_rows": null,
            "grid_gap": null,
            "max_width": null,
            "order": null,
            "_view_module_version": "1.2.0",
            "grid_template_areas": null,
            "object_position": null,
            "object_fit": null,
            "grid_auto_columns": null,
            "margin": null,
            "display": null,
            "left": null
          }
        },
        "55046a7bade440b9a9d0d71e698f8532": {
          "model_module": "@jupyter-widgets/controls",
          "model_name": "TextModel",
          "state": {
            "_view_name": "TextView",
            "style": "IPY_MODEL_ac24afa1d8a844beb6ae4c90118e5dd4",
            "_dom_classes": [],
            "description": "",
            "_model_name": "TextModel",
            "placeholder": "​",
            "_view_module": "@jupyter-widgets/controls",
            "_model_module_version": "1.5.0",
            "value": "Following data types have been inferred automatically, if they are correct press enter to continue or type 'quit' otherwise.",
            "_view_count": null,
            "disabled": false,
            "_view_module_version": "1.5.0",
            "continuous_update": true,
            "description_tooltip": null,
            "_model_module": "@jupyter-widgets/controls",
            "layout": "IPY_MODEL_1bf8d13f76954baf905464c9feb7fae1"
          }
        },
        "ac24afa1d8a844beb6ae4c90118e5dd4": {
          "model_module": "@jupyter-widgets/controls",
          "model_name": "DescriptionStyleModel",
          "state": {
            "_view_name": "StyleView",
            "_model_name": "DescriptionStyleModel",
            "description_width": "",
            "_view_module": "@jupyter-widgets/base",
            "_model_module_version": "1.5.0",
            "_view_count": null,
            "_view_module_version": "1.2.0",
            "_model_module": "@jupyter-widgets/controls"
          }
        },
        "1bf8d13f76954baf905464c9feb7fae1": {
          "model_module": "@jupyter-widgets/base",
          "model_name": "LayoutModel",
          "state": {
            "_view_name": "LayoutView",
            "grid_template_rows": null,
            "right": null,
            "justify_content": null,
            "_view_module": "@jupyter-widgets/base",
            "overflow": null,
            "_model_module_version": "1.2.0",
            "_view_count": null,
            "flex_flow": null,
            "width": "100%",
            "min_width": null,
            "border": null,
            "align_items": null,
            "bottom": null,
            "_model_module": "@jupyter-widgets/base",
            "top": null,
            "grid_column": null,
            "overflow_y": null,
            "overflow_x": null,
            "grid_auto_flow": null,
            "grid_area": null,
            "grid_template_columns": null,
            "flex": null,
            "_model_name": "LayoutModel",
            "justify_items": null,
            "grid_row": null,
            "max_height": null,
            "align_content": null,
            "visibility": null,
            "align_self": null,
            "height": null,
            "min_height": null,
            "padding": null,
            "grid_auto_rows": null,
            "grid_gap": null,
            "max_width": null,
            "order": null,
            "_view_module_version": "1.2.0",
            "grid_template_areas": null,
            "object_position": null,
            "object_fit": null,
            "grid_auto_columns": null,
            "margin": null,
            "display": null,
            "left": null
          }
        },
        "545f02c0f3cd4922849723355dd74364": {
          "model_module": "@jupyter-widgets/controls",
          "model_name": "IntProgressModel",
          "state": {
            "_view_name": "ProgressView",
            "style": "IPY_MODEL_c12a2010f1404490ba918bf21b6ce56f",
            "_dom_classes": [],
            "description": "Processing: ",
            "_model_name": "IntProgressModel",
            "bar_style": "",
            "max": 84,
            "_view_module": "@jupyter-widgets/controls",
            "_model_module_version": "1.5.0",
            "value": 57,
            "_view_count": null,
            "_view_module_version": "1.5.0",
            "orientation": "horizontal",
            "min": 0,
            "description_tooltip": null,
            "_model_module": "@jupyter-widgets/controls",
            "layout": "IPY_MODEL_566827b8b7444d86b70c5323cdab3704"
          }
        },
        "c12a2010f1404490ba918bf21b6ce56f": {
          "model_module": "@jupyter-widgets/controls",
          "model_name": "ProgressStyleModel",
          "state": {
            "_view_name": "StyleView",
            "_model_name": "ProgressStyleModel",
            "description_width": "",
            "_view_module": "@jupyter-widgets/base",
            "_model_module_version": "1.5.0",
            "_view_count": null,
            "_view_module_version": "1.2.0",
            "bar_color": null,
            "_model_module": "@jupyter-widgets/controls"
          }
        },
        "566827b8b7444d86b70c5323cdab3704": {
          "model_module": "@jupyter-widgets/base",
          "model_name": "LayoutModel",
          "state": {
            "_view_name": "LayoutView",
            "grid_template_rows": null,
            "right": null,
            "justify_content": null,
            "_view_module": "@jupyter-widgets/base",
            "overflow": null,
            "_model_module_version": "1.2.0",
            "_view_count": null,
            "flex_flow": null,
            "width": null,
            "min_width": null,
            "border": null,
            "align_items": null,
            "bottom": null,
            "_model_module": "@jupyter-widgets/base",
            "top": null,
            "grid_column": null,
            "overflow_y": null,
            "overflow_x": null,
            "grid_auto_flow": null,
            "grid_area": null,
            "grid_template_columns": null,
            "flex": null,
            "_model_name": "LayoutModel",
            "justify_items": null,
            "grid_row": null,
            "max_height": null,
            "align_content": null,
            "visibility": null,
            "align_self": null,
            "height": null,
            "min_height": null,
            "padding": null,
            "grid_auto_rows": null,
            "grid_gap": null,
            "max_width": null,
            "order": null,
            "_view_module_version": "1.2.0",
            "grid_template_areas": null,
            "object_position": null,
            "object_fit": null,
            "grid_auto_columns": null,
            "margin": null,
            "display": null,
            "left": null
          }
        }
      }
    }
  },
  "cells": [
    {
      "cell_type": "code",
      "metadata": {
        "id": "DMlnP4T3JVOa"
      },
      "source": [
        "#loading required packages\n",
        "import pandas as pd\n",
        "import numpy as np\n",
        "import matplotlib\n",
        "matplotlib.style.use('ggplot')\n",
        "import matplotlib.pyplot as plt\n",
        "from sklearn.preprocessing import LabelEncoder"
      ],
      "execution_count": 1,
      "outputs": []
    },
    {
      "cell_type": "code",
      "metadata": {
        "id": "E_6ne-yFJRk6",
        "colab": {
          "base_uri": "https://localhost:8080/",
          "height": 206
        },
        "outputId": "c190ad77-e3c1-4b4a-df39-a53202c48b46"
      },
      "source": [
        "# importing data - train data set\n",
        "df3=pd.read_csv(\"/content/train.csv\")\n",
        "df3.head()"
      ],
      "execution_count": 2,
      "outputs": [
        {
          "output_type": "execute_result",
          "data": {
            "text/html": [
              "<div>\n",
              "<style scoped>\n",
              "    .dataframe tbody tr th:only-of-type {\n",
              "        vertical-align: middle;\n",
              "    }\n",
              "\n",
              "    .dataframe tbody tr th {\n",
              "        vertical-align: top;\n",
              "    }\n",
              "\n",
              "    .dataframe thead th {\n",
              "        text-align: right;\n",
              "    }\n",
              "</style>\n",
              "<table border=\"1\" class=\"dataframe\">\n",
              "  <thead>\n",
              "    <tr style=\"text-align: right;\">\n",
              "      <th></th>\n",
              "      <th>ProductType</th>\n",
              "      <th>Manufacturer</th>\n",
              "      <th>Area Code</th>\n",
              "      <th>Sourcing Channel</th>\n",
              "      <th>Product Size</th>\n",
              "      <th>Product Type</th>\n",
              "      <th>Month of Sourcing</th>\n",
              "      <th>Sourcing Cost</th>\n",
              "    </tr>\n",
              "  </thead>\n",
              "  <tbody>\n",
              "    <tr>\n",
              "      <th>0</th>\n",
              "      <td>NTM3</td>\n",
              "      <td>X1</td>\n",
              "      <td>A28</td>\n",
              "      <td>WHOLESALE</td>\n",
              "      <td>Large</td>\n",
              "      <td>Powder</td>\n",
              "      <td>May-21</td>\n",
              "      <td>10.16</td>\n",
              "    </tr>\n",
              "    <tr>\n",
              "      <th>1</th>\n",
              "      <td>NTM2</td>\n",
              "      <td>X1</td>\n",
              "      <td>A9</td>\n",
              "      <td>DIRECT</td>\n",
              "      <td>Large</td>\n",
              "      <td>Powder</td>\n",
              "      <td>Oct-20</td>\n",
              "      <td>134.28</td>\n",
              "    </tr>\n",
              "    <tr>\n",
              "      <th>2</th>\n",
              "      <td>NTM3</td>\n",
              "      <td>X2</td>\n",
              "      <td>A20</td>\n",
              "      <td>DIRECT</td>\n",
              "      <td>Large</td>\n",
              "      <td>Powder</td>\n",
              "      <td>Dec-20</td>\n",
              "      <td>12.46</td>\n",
              "    </tr>\n",
              "    <tr>\n",
              "      <th>3</th>\n",
              "      <td>NTM3</td>\n",
              "      <td>X1</td>\n",
              "      <td>A18</td>\n",
              "      <td>WHOLESALE</td>\n",
              "      <td>Small</td>\n",
              "      <td>Powder</td>\n",
              "      <td>Feb-21</td>\n",
              "      <td>107.22</td>\n",
              "    </tr>\n",
              "    <tr>\n",
              "      <th>4</th>\n",
              "      <td>NTM2</td>\n",
              "      <td>X1</td>\n",
              "      <td>A28</td>\n",
              "      <td>DIRECT</td>\n",
              "      <td>Large</td>\n",
              "      <td>Liquid</td>\n",
              "      <td>Nov-20</td>\n",
              "      <td>197.76</td>\n",
              "    </tr>\n",
              "  </tbody>\n",
              "</table>\n",
              "</div>"
            ],
            "text/plain": [
              "  ProductType Manufacturer  ... Month of Sourcing Sourcing Cost\n",
              "0        NTM3           X1  ...            May-21         10.16\n",
              "1        NTM2           X1  ...            Oct-20        134.28\n",
              "2        NTM3           X2  ...            Dec-20         12.46\n",
              "3        NTM3           X1  ...            Feb-21        107.22\n",
              "4        NTM2           X1  ...            Nov-20        197.76\n",
              "\n",
              "[5 rows x 8 columns]"
            ]
          },
          "metadata": {
            "tags": []
          },
          "execution_count": 2
        }
      ]
    },
    {
      "cell_type": "code",
      "metadata": {
        "id": "MnhU1f4KRY_e",
        "colab": {
          "base_uri": "https://localhost:8080/",
          "height": 206
        },
        "outputId": "9629ca35-2291-4ab2-c1b1-2e88527067e5"
      },
      "source": [
        "# importing data - test data set\n",
        "final_test=pd.read_csv(\"/content/final_test.csv\")\n",
        "final_test.head()"
      ],
      "execution_count": 3,
      "outputs": [
        {
          "output_type": "execute_result",
          "data": {
            "text/html": [
              "<div>\n",
              "<style scoped>\n",
              "    .dataframe tbody tr th:only-of-type {\n",
              "        vertical-align: middle;\n",
              "    }\n",
              "\n",
              "    .dataframe tbody tr th {\n",
              "        vertical-align: top;\n",
              "    }\n",
              "\n",
              "    .dataframe thead th {\n",
              "        text-align: right;\n",
              "    }\n",
              "</style>\n",
              "<table border=\"1\" class=\"dataframe\">\n",
              "  <thead>\n",
              "    <tr style=\"text-align: right;\">\n",
              "      <th></th>\n",
              "      <th>ProductType</th>\n",
              "      <th>Manufacturer</th>\n",
              "      <th>Area Code</th>\n",
              "      <th>Sourcing Channel</th>\n",
              "      <th>Product Size</th>\n",
              "      <th>Product Type</th>\n",
              "      <th>Month of Sourcing</th>\n",
              "      <th>Sourcing Cost</th>\n",
              "    </tr>\n",
              "  </thead>\n",
              "  <tbody>\n",
              "    <tr>\n",
              "      <th>0</th>\n",
              "      <td>NTM1</td>\n",
              "      <td>X1</td>\n",
              "      <td>A1</td>\n",
              "      <td>DIRECT</td>\n",
              "      <td>Small</td>\n",
              "      <td>Powder</td>\n",
              "      <td>Jun-21</td>\n",
              "      <td>103.68</td>\n",
              "    </tr>\n",
              "    <tr>\n",
              "      <th>1</th>\n",
              "      <td>NTM1</td>\n",
              "      <td>X1</td>\n",
              "      <td>A10</td>\n",
              "      <td>DIRECT</td>\n",
              "      <td>Large</td>\n",
              "      <td>Powder</td>\n",
              "      <td>Jun-21</td>\n",
              "      <td>155.75</td>\n",
              "    </tr>\n",
              "    <tr>\n",
              "      <th>2</th>\n",
              "      <td>NTM1</td>\n",
              "      <td>X1</td>\n",
              "      <td>A10</td>\n",
              "      <td>ECOM</td>\n",
              "      <td>Large</td>\n",
              "      <td>Powder</td>\n",
              "      <td>Jun-21</td>\n",
              "      <td>143.02</td>\n",
              "    </tr>\n",
              "    <tr>\n",
              "      <th>3</th>\n",
              "      <td>NTM1</td>\n",
              "      <td>X1</td>\n",
              "      <td>A11</td>\n",
              "      <td>DIRECT</td>\n",
              "      <td>Large</td>\n",
              "      <td>Powder</td>\n",
              "      <td>Jun-21</td>\n",
              "      <td>139.39</td>\n",
              "    </tr>\n",
              "    <tr>\n",
              "      <th>4</th>\n",
              "      <td>NTM1</td>\n",
              "      <td>X1</td>\n",
              "      <td>A2</td>\n",
              "      <td>DIRECT</td>\n",
              "      <td>Large</td>\n",
              "      <td>Powder</td>\n",
              "      <td>Jun-21</td>\n",
              "      <td>169.42</td>\n",
              "    </tr>\n",
              "  </tbody>\n",
              "</table>\n",
              "</div>"
            ],
            "text/plain": [
              "  ProductType Manufacturer  ... Month of Sourcing Sourcing Cost\n",
              "0        NTM1           X1  ...            Jun-21        103.68\n",
              "1        NTM1           X1  ...            Jun-21        155.75\n",
              "2        NTM1           X1  ...            Jun-21        143.02\n",
              "3        NTM1           X1  ...            Jun-21        139.39\n",
              "4        NTM1           X1  ...            Jun-21        169.42\n",
              "\n",
              "[5 rows x 8 columns]"
            ]
          },
          "metadata": {
            "tags": []
          },
          "execution_count": 3
        }
      ]
    },
    {
      "cell_type": "code",
      "metadata": {
        "colab": {
          "base_uri": "https://localhost:8080/",
          "height": 206
        },
        "id": "nwpdjpxSRj9z",
        "outputId": "c4e853aa-281b-44da-e006-01e19c2a405e"
      },
      "source": [
        "# appending data set training and test\n",
        "df1=df3.append(final_test)\n",
        "df1.head()"
      ],
      "execution_count": 4,
      "outputs": [
        {
          "output_type": "execute_result",
          "data": {
            "text/html": [
              "<div>\n",
              "<style scoped>\n",
              "    .dataframe tbody tr th:only-of-type {\n",
              "        vertical-align: middle;\n",
              "    }\n",
              "\n",
              "    .dataframe tbody tr th {\n",
              "        vertical-align: top;\n",
              "    }\n",
              "\n",
              "    .dataframe thead th {\n",
              "        text-align: right;\n",
              "    }\n",
              "</style>\n",
              "<table border=\"1\" class=\"dataframe\">\n",
              "  <thead>\n",
              "    <tr style=\"text-align: right;\">\n",
              "      <th></th>\n",
              "      <th>ProductType</th>\n",
              "      <th>Manufacturer</th>\n",
              "      <th>Area Code</th>\n",
              "      <th>Sourcing Channel</th>\n",
              "      <th>Product Size</th>\n",
              "      <th>Product Type</th>\n",
              "      <th>Month of Sourcing</th>\n",
              "      <th>Sourcing Cost</th>\n",
              "    </tr>\n",
              "  </thead>\n",
              "  <tbody>\n",
              "    <tr>\n",
              "      <th>0</th>\n",
              "      <td>NTM3</td>\n",
              "      <td>X1</td>\n",
              "      <td>A28</td>\n",
              "      <td>WHOLESALE</td>\n",
              "      <td>Large</td>\n",
              "      <td>Powder</td>\n",
              "      <td>May-21</td>\n",
              "      <td>10.16</td>\n",
              "    </tr>\n",
              "    <tr>\n",
              "      <th>1</th>\n",
              "      <td>NTM2</td>\n",
              "      <td>X1</td>\n",
              "      <td>A9</td>\n",
              "      <td>DIRECT</td>\n",
              "      <td>Large</td>\n",
              "      <td>Powder</td>\n",
              "      <td>Oct-20</td>\n",
              "      <td>134.28</td>\n",
              "    </tr>\n",
              "    <tr>\n",
              "      <th>2</th>\n",
              "      <td>NTM3</td>\n",
              "      <td>X2</td>\n",
              "      <td>A20</td>\n",
              "      <td>DIRECT</td>\n",
              "      <td>Large</td>\n",
              "      <td>Powder</td>\n",
              "      <td>Dec-20</td>\n",
              "      <td>12.46</td>\n",
              "    </tr>\n",
              "    <tr>\n",
              "      <th>3</th>\n",
              "      <td>NTM3</td>\n",
              "      <td>X1</td>\n",
              "      <td>A18</td>\n",
              "      <td>WHOLESALE</td>\n",
              "      <td>Small</td>\n",
              "      <td>Powder</td>\n",
              "      <td>Feb-21</td>\n",
              "      <td>107.22</td>\n",
              "    </tr>\n",
              "    <tr>\n",
              "      <th>4</th>\n",
              "      <td>NTM2</td>\n",
              "      <td>X1</td>\n",
              "      <td>A28</td>\n",
              "      <td>DIRECT</td>\n",
              "      <td>Large</td>\n",
              "      <td>Liquid</td>\n",
              "      <td>Nov-20</td>\n",
              "      <td>197.76</td>\n",
              "    </tr>\n",
              "  </tbody>\n",
              "</table>\n",
              "</div>"
            ],
            "text/plain": [
              "  ProductType Manufacturer  ... Month of Sourcing Sourcing Cost\n",
              "0        NTM3           X1  ...            May-21         10.16\n",
              "1        NTM2           X1  ...            Oct-20        134.28\n",
              "2        NTM3           X2  ...            Dec-20         12.46\n",
              "3        NTM3           X1  ...            Feb-21        107.22\n",
              "4        NTM2           X1  ...            Nov-20        197.76\n",
              "\n",
              "[5 rows x 8 columns]"
            ]
          },
          "metadata": {
            "tags": []
          },
          "execution_count": 4
        }
      ]
    },
    {
      "cell_type": "code",
      "metadata": {
        "colab": {
          "base_uri": "https://localhost:8080/"
        },
        "id": "YrRfPm7GR-Ir",
        "outputId": "a93ce402-9f34-4bfd-b05c-9a035f0b1d91"
      },
      "source": [
        "# total rows\n",
        "len(df1)"
      ],
      "execution_count": 5,
      "outputs": [
        {
          "output_type": "execute_result",
          "data": {
            "text/plain": [
              "550275"
            ]
          },
          "metadata": {
            "tags": []
          },
          "execution_count": 5
        }
      ]
    },
    {
      "cell_type": "markdown",
      "metadata": {
        "id": "VQqrmaUnRW_9"
      },
      "source": [
        "creating dummy data frame to map the month of sourcing ensuring order of the month "
      ]
    },
    {
      "cell_type": "code",
      "metadata": {
        "colab": {
          "base_uri": "https://localhost:8080/",
          "height": 206
        },
        "id": "nT_qt5C4RGKI",
        "outputId": "b54b555c-b417-4da4-c752-0cd0eed4d520"
      },
      "source": [
        "# initialize list of lists\n",
        "data = [['Jul-20', 1,2020], ['Aug-20', 2,2020], ['Sep-20', 3,2020],['Oct-20', 4,2020],['Nov-20', 5,2020],['Dec-20', 6,2020],['Jan-21', 7,2021],['Feb-21', 8,2021],['Mar-21', 9,2021],['Apr-21', 10,2021],['May-21', 11,2021],\n",
        "        ['Jun-21', 12,2021]]\n",
        " \n",
        "# Create the mapping table\n",
        "df = pd.DataFrame(data, columns = ['Month of Sourcing', 'month_no','year'])\n",
        "\n",
        "# joining the mapping table with df1\n",
        "df2=pd.merge(df1,df,how='inner',on='Month of Sourcing')\n",
        "df2.head()"
      ],
      "execution_count": 6,
      "outputs": [
        {
          "output_type": "execute_result",
          "data": {
            "text/html": [
              "<div>\n",
              "<style scoped>\n",
              "    .dataframe tbody tr th:only-of-type {\n",
              "        vertical-align: middle;\n",
              "    }\n",
              "\n",
              "    .dataframe tbody tr th {\n",
              "        vertical-align: top;\n",
              "    }\n",
              "\n",
              "    .dataframe thead th {\n",
              "        text-align: right;\n",
              "    }\n",
              "</style>\n",
              "<table border=\"1\" class=\"dataframe\">\n",
              "  <thead>\n",
              "    <tr style=\"text-align: right;\">\n",
              "      <th></th>\n",
              "      <th>ProductType</th>\n",
              "      <th>Manufacturer</th>\n",
              "      <th>Area Code</th>\n",
              "      <th>Sourcing Channel</th>\n",
              "      <th>Product Size</th>\n",
              "      <th>Product Type</th>\n",
              "      <th>Month of Sourcing</th>\n",
              "      <th>Sourcing Cost</th>\n",
              "      <th>month_no</th>\n",
              "      <th>year</th>\n",
              "    </tr>\n",
              "  </thead>\n",
              "  <tbody>\n",
              "    <tr>\n",
              "      <th>0</th>\n",
              "      <td>NTM3</td>\n",
              "      <td>X1</td>\n",
              "      <td>A28</td>\n",
              "      <td>WHOLESALE</td>\n",
              "      <td>Large</td>\n",
              "      <td>Powder</td>\n",
              "      <td>May-21</td>\n",
              "      <td>10.16</td>\n",
              "      <td>11</td>\n",
              "      <td>2021</td>\n",
              "    </tr>\n",
              "    <tr>\n",
              "      <th>1</th>\n",
              "      <td>NTM2</td>\n",
              "      <td>X1</td>\n",
              "      <td>A9</td>\n",
              "      <td>DIRECT</td>\n",
              "      <td>Large</td>\n",
              "      <td>Powder</td>\n",
              "      <td>May-21</td>\n",
              "      <td>148.40</td>\n",
              "      <td>11</td>\n",
              "      <td>2021</td>\n",
              "    </tr>\n",
              "    <tr>\n",
              "      <th>2</th>\n",
              "      <td>NTM1</td>\n",
              "      <td>X2</td>\n",
              "      <td>A30</td>\n",
              "      <td>RETAIL</td>\n",
              "      <td>Small</td>\n",
              "      <td>Powder</td>\n",
              "      <td>May-21</td>\n",
              "      <td>41.04</td>\n",
              "      <td>11</td>\n",
              "      <td>2021</td>\n",
              "    </tr>\n",
              "    <tr>\n",
              "      <th>3</th>\n",
              "      <td>NTM1</td>\n",
              "      <td>X1</td>\n",
              "      <td>A10</td>\n",
              "      <td>DIRECT</td>\n",
              "      <td>Large</td>\n",
              "      <td>Powder</td>\n",
              "      <td>May-21</td>\n",
              "      <td>156.79</td>\n",
              "      <td>11</td>\n",
              "      <td>2021</td>\n",
              "    </tr>\n",
              "    <tr>\n",
              "      <th>4</th>\n",
              "      <td>NTM1</td>\n",
              "      <td>X1</td>\n",
              "      <td>A2</td>\n",
              "      <td>ECOM</td>\n",
              "      <td>Small</td>\n",
              "      <td>Powder</td>\n",
              "      <td>May-21</td>\n",
              "      <td>174.83</td>\n",
              "      <td>11</td>\n",
              "      <td>2021</td>\n",
              "    </tr>\n",
              "  </tbody>\n",
              "</table>\n",
              "</div>"
            ],
            "text/plain": [
              "  ProductType Manufacturer Area Code  ... Sourcing Cost month_no  year\n",
              "0        NTM3           X1       A28  ...         10.16       11  2021\n",
              "1        NTM2           X1        A9  ...        148.40       11  2021\n",
              "2        NTM1           X2       A30  ...         41.04       11  2021\n",
              "3        NTM1           X1       A10  ...        156.79       11  2021\n",
              "4        NTM1           X1        A2  ...        174.83       11  2021\n",
              "\n",
              "[5 rows x 10 columns]"
            ]
          },
          "metadata": {
            "tags": []
          },
          "execution_count": 6
        }
      ]
    },
    {
      "cell_type": "markdown",
      "metadata": {
        "id": "VPRSmECiJosS"
      },
      "source": [
        "#Exploratory data analysis"
      ]
    },
    {
      "cell_type": "markdown",
      "metadata": {
        "id": "8LXZzOFsKGIL"
      },
      "source": [
        "Let's try to visualize data for better data understanding since data is time series format we can use multiple line chart to visualize data at different dimensions"
      ]
    },
    {
      "cell_type": "markdown",
      "metadata": {
        "id": "RPSKRqCiL-kt"
      },
      "source": [
        "Try to group the data my month wise and at different categorical types. More of Understanding the data set"
      ]
    },
    {
      "cell_type": "markdown",
      "metadata": {
        "id": "Hq2P4FmfML3U"
      },
      "source": [
        "**Product** **Type**"
      ]
    },
    {
      "cell_type": "code",
      "metadata": {
        "colab": {
          "base_uri": "https://localhost:8080/",
          "height": 316
        },
        "id": "Q_Nw9VeyJRqT",
        "outputId": "a1f16826-9279-4f98-b345-43f1955e5879"
      },
      "source": [
        "# grouping data by month and by product type\n",
        "# visualizing data by product type (one in avg) \n",
        "df2.groupby(['month_no','ProductType'])['Sourcing Cost'].mean().unstack().plot(title=\"distribution of monthly soucring cost v/s product type\")"
      ],
      "execution_count": null,
      "outputs": [
        {
          "output_type": "execute_result",
          "data": {
            "text/plain": [
              "<matplotlib.axes._subplots.AxesSubplot at 0x7fdd2f64cd50>"
            ]
          },
          "metadata": {
            "tags": []
          },
          "execution_count": 28
        },
        {
          "output_type": "display_data",
          "data": {
            "image/png": "[encoded data removed]",
            "text/plain": [
              "<Figure size 432x288 with 1 Axes>"
            ]
          },
          "metadata": {
            "tags": []
          }
        }
      ]
    },
    {
      "cell_type": "code",
      "metadata": {
        "colab": {
          "base_uri": "https://localhost:8080/",
          "height": 316
        },
        "id": "9gggdz-Mg6E4",
        "outputId": "90e02807-c893-45cf-dba1-a0923d494a64"
      },
      "source": [
        "# visualizing data by product type (one in M) \n",
        "df2.groupby(['month_no','ProductType'])['Sourcing Cost'].sum().unstack().plot(title=\"distribution of monthly soucring cost v/s product type\",ylabel=\"sourcing cost (M)\")"
      ],
      "execution_count": null,
      "outputs": [
        {
          "output_type": "execute_result",
          "data": {
            "text/plain": [
              "<matplotlib.axes._subplots.AxesSubplot at 0x7fd2e7a2d6d0>"
            ]
          },
          "metadata": {
            "tags": []
          },
          "execution_count": 5
        },
        {
          "output_type": "display_data",
          "data": {
            "image/png": "[encoded data removed]",
            "text/plain": [
              "<Figure size 432x288 with 1 Axes>"
            ]
          },
          "metadata": {
            "tags": [],
            "needs_background": "light"
          }
        }
      ]
    },
    {
      "cell_type": "markdown",
      "metadata": {
        "id": "9k5otjqehIgv"
      },
      "source": [
        "Inference: Porduct type NTM2 has highest soucring cost\n",
        "1. could see drastic spike in 5th month for product NTM2\n",
        "2. and cost drop after that. and the curve looks flat\n",
        "3. for NTM3 alone we could see slight increase in the cost"
      ]
    },
    {
      "cell_type": "markdown",
      "metadata": {
        "id": "VCd19pO3jAIp"
      },
      "source": [
        "#**Manufactuer**"
      ]
    },
    {
      "cell_type": "code",
      "metadata": {
        "colab": {
          "base_uri": "https://localhost:8080/",
          "height": 316
        },
        "id": "fLz5RE6xXgDE",
        "outputId": "1f1d53b4-4117-4a7c-92fb-a5f5cdd21fb6"
      },
      "source": [
        "# grouping data by month and by Manufacturer\n",
        "# visualizing data by Manufacturer (one in avg) \n",
        "df2.groupby(['month_no','Manufacturer'])['Sourcing Cost'].mean().unstack().plot(title=\"distribution of monthly soucring cost v/s Manufacturer\",ylabel=\"sourcing cost (Avg)\")"
      ],
      "execution_count": null,
      "outputs": [
        {
          "output_type": "execute_result",
          "data": {
            "text/plain": [
              "<matplotlib.axes._subplots.AxesSubplot at 0x7fd2e7594250>"
            ]
          },
          "metadata": {
            "tags": []
          },
          "execution_count": 6
        },
        {
          "output_type": "display_data",
          "data": {
            "image/png": "[encoded data removed]",
            "text/plain": [
              "<Figure size 432x288 with 1 Axes>"
            ]
          },
          "metadata": {
            "tags": [],
            "needs_background": "light"
          }
        }
      ]
    },
    {
      "cell_type": "code",
      "metadata": {
        "colab": {
          "base_uri": "https://localhost:8080/",
          "height": 316
        },
        "id": "81xShZuoh3l5",
        "outputId": "648dd0ee-ef9e-4f8f-d179-232525af24cf"
      },
      "source": [
        "# visualizing data by Manufacturer (one in M) \n",
        "df2.groupby(['month_no','Manufacturer'])['Sourcing Cost'].sum().unstack().plot(title=\"distribution of monthly soucring cost v/s Manufacturer\",ylabel=\"sourcing cost (M)\")"
      ],
      "execution_count": null,
      "outputs": [
        {
          "output_type": "execute_result",
          "data": {
            "text/plain": [
              "<matplotlib.axes._subplots.AxesSubplot at 0x7fd2e74a4e10>"
            ]
          },
          "metadata": {
            "tags": []
          },
          "execution_count": 7
        },
        {
          "output_type": "display_data",
          "data": {
            "image/png": "[encoded data removed]",
            "text/plain": [
              "<Figure size 432x288 with 1 Axes>"
            ]
          },
          "metadata": {
            "tags": [],
            "needs_background": "light"
          }
        }
      ]
    },
    {
      "cell_type": "markdown",
      "metadata": {
        "id": "pIr_zY9GkLNi"
      },
      "source": [
        "Inference: with respect to manufacturer we could see that X1 has highest trend for rest of the manufacturers are low \n",
        "we could see increment in the 5th month that is coming from manufacturer X1"
      ]
    },
    {
      "cell_type": "markdown",
      "metadata": {
        "id": "0VwDABVfkM9B"
      },
      "source": [
        "#**Sourcing** **Channel**"
      ]
    },
    {
      "cell_type": "code",
      "metadata": {
        "colab": {
          "base_uri": "https://localhost:8080/",
          "height": 316
        },
        "id": "kVzqvOX8h3th",
        "outputId": "06be1141-2890-40af-e09b-c935bc8a3f4f"
      },
      "source": [
        "# grouping data by month and by Sourcing Channel\n",
        "# visualizing data by Sourcing Channel (one in avg) \n",
        "df2.groupby(['month_no','Sourcing Channel'])['Sourcing Cost'].mean().unstack().plot(title=\"distribution of monthly soucring cost v/s Sourcing Channel\",ylabel=\"sourcing cost (Avg)\")"
      ],
      "execution_count": null,
      "outputs": [
        {
          "output_type": "execute_result",
          "data": {
            "text/plain": [
              "<matplotlib.axes._subplots.AxesSubplot at 0x7fd2e742cb90>"
            ]
          },
          "metadata": {
            "tags": []
          },
          "execution_count": 8
        },
        {
          "output_type": "display_data",
          "data": {
            "image/png": "[encoded data removed]",
            "text/plain": [
              "<Figure size 432x288 with 1 Axes>"
            ]
          },
          "metadata": {
            "tags": [],
            "needs_background": "light"
          }
        }
      ]
    },
    {
      "cell_type": "code",
      "metadata": {
        "colab": {
          "base_uri": "https://localhost:8080/",
          "height": 316
        },
        "id": "9VzYsnREh3wL",
        "outputId": "070e28fa-d54e-4b8f-b166-df4fc946320a"
      },
      "source": [
        "# visualizing data bySourcing Channel (one in M) \n",
        "df2.groupby(['month_no','Sourcing Channel'])['Sourcing Cost'].sum().unstack().plot(title=\"distribution of monthly soucring cost v/s Sourcing Channel\",ylabel=\"sourcing cost (M)\")"
      ],
      "execution_count": null,
      "outputs": [
        {
          "output_type": "execute_result",
          "data": {
            "text/plain": [
              "<matplotlib.axes._subplots.AxesSubplot at 0x7fd2e73c3150>"
            ]
          },
          "metadata": {
            "tags": []
          },
          "execution_count": 9
        },
        {
          "output_type": "display_data",
          "data": {
            "image/png": "[encoded data removed]",
            "text/plain": [
              "<Figure size 432x288 with 1 Axes>"
            ]
          },
          "metadata": {
            "tags": [],
            "needs_background": "light"
          }
        }
      ]
    },
    {
      "cell_type": "markdown",
      "metadata": {
        "id": "6oOZMv-lmU4q"
      },
      "source": [
        "Inference: most of the products sells very high cost at direct channel\n",
        "1. when we try to compare the charts in millions and in average we can see that avg sourcing cost for ecom high and for direct channel is in second.\n",
        "2. we can see clear change in the trend upside down when dealing with absolute numbers\n",
        "3. there could be more anamolies/outlier data points in the direct channel and for ecom channel let us try to find out in the further outlier treatment analysis"
      ]
    },
    {
      "cell_type": "markdown",
      "metadata": {
        "id": "0xH4WcqqkqlJ"
      },
      "source": [
        "#**Product** **Size**"
      ]
    },
    {
      "cell_type": "code",
      "metadata": {
        "id": "xquEofwCh3y_"
      },
      "source": [
        "# grouping data by month and by Product Size\n",
        "# visualizing data by Product Size (one in avg) \n",
        "df2.groupby(['month_no','Product Size'])['Sourcing Cost'].mean().unstack().plot(title=\"distribution of monthly soucring cost v/s Product Size\",ylabel=\"sourcing cost (Avg)\")"
      ],
      "execution_count": null,
      "outputs": []
    },
    {
      "cell_type": "code",
      "metadata": {
        "colab": {
          "base_uri": "https://localhost:8080/",
          "height": 316
        },
        "id": "zuqi3yI2h31x",
        "outputId": "ccb8151e-ea40-4b81-8539-533141105901"
      },
      "source": [
        "# visualizing data by Product Size (one in M) \n",
        "df2.groupby(['month_no','Product Size'])['Sourcing Cost'].sum().unstack().plot(title=\"distribution of monthly soucring cost v/s Product Size\",ylabel=\"sourcing cost (M)\")"
      ],
      "execution_count": null,
      "outputs": [
        {
          "output_type": "execute_result",
          "data": {
            "text/plain": [
              "<matplotlib.axes._subplots.AxesSubplot at 0x7f3792ca3050>"
            ]
          },
          "metadata": {
            "tags": []
          },
          "execution_count": 5
        },
        {
          "output_type": "display_data",
          "data": {
            "image/png": "[encoded data removed]",
            "text/plain": [
              "<Figure size 432x288 with 1 Axes>"
            ]
          },
          "metadata": {
            "tags": [],
            "needs_background": "light"
          }
        }
      ]
    },
    {
      "cell_type": "markdown",
      "metadata": {
        "id": "i78H7uD2onQ8"
      },
      "source": [
        "Inference: when we try to compare both of the charts it shows different patterns and trend, so it is clear indication that anamolies is coming from extra large products we observe spike in  4th month. when we deal with absolute raw numbers we couldn't observe that. the most of the transactions/products are large. clearly this will adverse effects while training the model"
      ]
    },
    {
      "cell_type": "markdown",
      "metadata": {
        "id": "xLl18vmgldIb"
      },
      "source": [
        "#**Product** **Type**"
      ]
    },
    {
      "cell_type": "code",
      "metadata": {
        "colab": {
          "base_uri": "https://localhost:8080/",
          "height": 316
        },
        "id": "hlUEc74ah34y",
        "outputId": "57cee80f-fc07-4b42-99f9-f4cbfc74de4f"
      },
      "source": [
        "# grouping data by month and by Product Type\n",
        "# visualizing data by Product Type (one in avg) \n",
        "df2.groupby(['month_no','Product Type'])['Sourcing Cost'].mean().unstack().plot(title=\"distribution of monthly soucring cost v/s Product Type\",ylabel=\"sourcing cost (Avg)\")"
      ],
      "execution_count": null,
      "outputs": [
        {
          "output_type": "execute_result",
          "data": {
            "text/plain": [
              "<matplotlib.axes._subplots.AxesSubplot at 0x7fd2e71ef390>"
            ]
          },
          "metadata": {
            "tags": []
          },
          "execution_count": 12
        },
        {
          "output_type": "display_data",
          "data": {
            "image/png": "[encoded data removed]",
            "text/plain": [
              "<Figure size 432x288 with 1 Axes>"
            ]
          },
          "metadata": {
            "tags": [],
            "needs_background": "light"
          }
        }
      ]
    },
    {
      "cell_type": "code",
      "metadata": {
        "colab": {
          "base_uri": "https://localhost:8080/",
          "height": 316
        },
        "id": "MlFV1g38h37K",
        "outputId": "5da43691-bc9a-49f2-db02-fb632513ac05"
      },
      "source": [
        "# visualizing data by Product Type (one in M) \n",
        "df2.groupby(['month_no','Product Type'])['Sourcing Cost'].sum().unstack().plot(title=\"distribution of monthly soucring cost v/s Product Type\",ylabel=\"sourcing cost (M)\")"
      ],
      "execution_count": null,
      "outputs": [
        {
          "output_type": "execute_result",
          "data": {
            "text/plain": [
              "<matplotlib.axes._subplots.AxesSubplot at 0x7fd2e71ae4d0>"
            ]
          },
          "metadata": {
            "tags": []
          },
          "execution_count": 13
        },
        {
          "output_type": "display_data",
          "data": {
            "image/png": "[encoded data removed]",
            "text/plain": [
              "<Figure size 432x288 with 1 Axes>"
            ]
          },
          "metadata": {
            "tags": [],
            "needs_background": "light"
          }
        }
      ]
    },
    {
      "cell_type": "markdown",
      "metadata": {
        "id": "btMlrG2mpu6k"
      },
      "source": [
        "Inference: Most of the products are powder type ones. we can see cost incurred is high for powder products type, \n",
        "1. spike in 5th month (possibly a outlier) - need to investigate what could be the reason for that\n",
        "2. on the average chart from 6 th to 7 month there is spike in the average - need to investigate what could be the reason for that (possible outliers)"
      ]
    },
    {
      "cell_type": "markdown",
      "metadata": {
        "id": "TmnN4kLNq7vF"
      },
      "source": [
        "we could see there is lots of change in the trend when dealing with absolute raw numbers and summarized ones so this dataset has lots of anamolies and outliers.\n",
        "need to figure out how to identify them and/or can be removed from the model or not \n",
        "one way to smoothen the dataset actually"
      ]
    },
    {
      "cell_type": "markdown",
      "metadata": {
        "id": "mGZiK-lErN1e"
      },
      "source": [
        "#**Building ML model after outlier treatments**"
      ]
    },
    {
      "cell_type": "markdown",
      "metadata": {
        "id": "yP9xmwxLSqNq"
      },
      "source": [
        "since all independent variables are categorical, converting all the categorical variables to numeric variables using label encoder\n"
      ]
    },
    {
      "cell_type": "code",
      "metadata": {
        "colab": {
          "base_uri": "https://localhost:8080/",
          "height": 423
        },
        "id": "scOg7NTbZjkL",
        "outputId": "4ef612db-deb7-4f8d-c71f-800c6350b260"
      },
      "source": [
        "# labelencoder for coverting/coding categorical to numerical\n",
        "labelencoder = LabelEncoder()\n",
        "# coding numerical values for ProductType\n",
        "df2['ProductType'] = labelencoder.fit_transform(df2['ProductType'])\n",
        "df2"
      ],
      "execution_count": 8,
      "outputs": [
        {
          "output_type": "execute_result",
          "data": {
            "text/html": [
              "<div>\n",
              "<style scoped>\n",
              "    .dataframe tbody tr th:only-of-type {\n",
              "        vertical-align: middle;\n",
              "    }\n",
              "\n",
              "    .dataframe tbody tr th {\n",
              "        vertical-align: top;\n",
              "    }\n",
              "\n",
              "    .dataframe thead th {\n",
              "        text-align: right;\n",
              "    }\n",
              "</style>\n",
              "<table border=\"1\" class=\"dataframe\">\n",
              "  <thead>\n",
              "    <tr style=\"text-align: right;\">\n",
              "      <th></th>\n",
              "      <th>ProductType</th>\n",
              "      <th>Manufacturer</th>\n",
              "      <th>Area Code</th>\n",
              "      <th>Sourcing Channel</th>\n",
              "      <th>Product Size</th>\n",
              "      <th>Product Type</th>\n",
              "      <th>Month of Sourcing</th>\n",
              "      <th>Sourcing Cost</th>\n",
              "      <th>month_no</th>\n",
              "      <th>year</th>\n",
              "    </tr>\n",
              "  </thead>\n",
              "  <tbody>\n",
              "    <tr>\n",
              "      <th>0</th>\n",
              "      <td>2</td>\n",
              "      <td>X1</td>\n",
              "      <td>A28</td>\n",
              "      <td>WHOLESALE</td>\n",
              "      <td>Large</td>\n",
              "      <td>Powder</td>\n",
              "      <td>May-21</td>\n",
              "      <td>10.16</td>\n",
              "      <td>11</td>\n",
              "      <td>2021</td>\n",
              "    </tr>\n",
              "    <tr>\n",
              "      <th>1</th>\n",
              "      <td>1</td>\n",
              "      <td>X1</td>\n",
              "      <td>A9</td>\n",
              "      <td>DIRECT</td>\n",
              "      <td>Large</td>\n",
              "      <td>Powder</td>\n",
              "      <td>May-21</td>\n",
              "      <td>148.40</td>\n",
              "      <td>11</td>\n",
              "      <td>2021</td>\n",
              "    </tr>\n",
              "    <tr>\n",
              "      <th>2</th>\n",
              "      <td>0</td>\n",
              "      <td>X2</td>\n",
              "      <td>A30</td>\n",
              "      <td>RETAIL</td>\n",
              "      <td>Small</td>\n",
              "      <td>Powder</td>\n",
              "      <td>May-21</td>\n",
              "      <td>41.04</td>\n",
              "      <td>11</td>\n",
              "      <td>2021</td>\n",
              "    </tr>\n",
              "    <tr>\n",
              "      <th>3</th>\n",
              "      <td>0</td>\n",
              "      <td>X1</td>\n",
              "      <td>A10</td>\n",
              "      <td>DIRECT</td>\n",
              "      <td>Large</td>\n",
              "      <td>Powder</td>\n",
              "      <td>May-21</td>\n",
              "      <td>156.79</td>\n",
              "      <td>11</td>\n",
              "      <td>2021</td>\n",
              "    </tr>\n",
              "    <tr>\n",
              "      <th>4</th>\n",
              "      <td>0</td>\n",
              "      <td>X1</td>\n",
              "      <td>A2</td>\n",
              "      <td>ECOM</td>\n",
              "      <td>Small</td>\n",
              "      <td>Powder</td>\n",
              "      <td>May-21</td>\n",
              "      <td>174.83</td>\n",
              "      <td>11</td>\n",
              "      <td>2021</td>\n",
              "    </tr>\n",
              "    <tr>\n",
              "      <th>...</th>\n",
              "      <td>...</td>\n",
              "      <td>...</td>\n",
              "      <td>...</td>\n",
              "      <td>...</td>\n",
              "      <td>...</td>\n",
              "      <td>...</td>\n",
              "      <td>...</td>\n",
              "      <td>...</td>\n",
              "      <td>...</td>\n",
              "      <td>...</td>\n",
              "    </tr>\n",
              "    <tr>\n",
              "      <th>550267</th>\n",
              "      <td>2</td>\n",
              "      <td>X1</td>\n",
              "      <td>A44</td>\n",
              "      <td>DIRECT</td>\n",
              "      <td>Small</td>\n",
              "      <td>Liquid</td>\n",
              "      <td>Jun-21</td>\n",
              "      <td>89.57</td>\n",
              "      <td>12</td>\n",
              "      <td>2021</td>\n",
              "    </tr>\n",
              "    <tr>\n",
              "      <th>550268</th>\n",
              "      <td>2</td>\n",
              "      <td>X1</td>\n",
              "      <td>A8</td>\n",
              "      <td>DIRECT</td>\n",
              "      <td>Large</td>\n",
              "      <td>Powder</td>\n",
              "      <td>Jun-21</td>\n",
              "      <td>114.57</td>\n",
              "      <td>12</td>\n",
              "      <td>2021</td>\n",
              "    </tr>\n",
              "    <tr>\n",
              "      <th>550269</th>\n",
              "      <td>2</td>\n",
              "      <td>X1</td>\n",
              "      <td>A8</td>\n",
              "      <td>DIRECT</td>\n",
              "      <td>Small</td>\n",
              "      <td>Powder</td>\n",
              "      <td>Jun-21</td>\n",
              "      <td>111.26</td>\n",
              "      <td>12</td>\n",
              "      <td>2021</td>\n",
              "    </tr>\n",
              "    <tr>\n",
              "      <th>550270</th>\n",
              "      <td>2</td>\n",
              "      <td>X2</td>\n",
              "      <td>A20</td>\n",
              "      <td>DIRECT</td>\n",
              "      <td>Large</td>\n",
              "      <td>Powder</td>\n",
              "      <td>Jun-21</td>\n",
              "      <td>32.32</td>\n",
              "      <td>12</td>\n",
              "      <td>2021</td>\n",
              "    </tr>\n",
              "    <tr>\n",
              "      <th>550271</th>\n",
              "      <td>2</td>\n",
              "      <td>X3</td>\n",
              "      <td>A22</td>\n",
              "      <td>RETAIL</td>\n",
              "      <td>Large</td>\n",
              "      <td>Powder</td>\n",
              "      <td>Jun-21</td>\n",
              "      <td>40.73</td>\n",
              "      <td>12</td>\n",
              "      <td>2021</td>\n",
              "    </tr>\n",
              "  </tbody>\n",
              "</table>\n",
              "<p>550272 rows × 10 columns</p>\n",
              "</div>"
            ],
            "text/plain": [
              "        ProductType Manufacturer Area Code  ... Sourcing Cost month_no  year\n",
              "0                 2           X1       A28  ...         10.16       11  2021\n",
              "1                 1           X1        A9  ...        148.40       11  2021\n",
              "2                 0           X2       A30  ...         41.04       11  2021\n",
              "3                 0           X1       A10  ...        156.79       11  2021\n",
              "4                 0           X1        A2  ...        174.83       11  2021\n",
              "...             ...          ...       ...  ...           ...      ...   ...\n",
              "550267            2           X1       A44  ...         89.57       12  2021\n",
              "550268            2           X1        A8  ...        114.57       12  2021\n",
              "550269            2           X1        A8  ...        111.26       12  2021\n",
              "550270            2           X2       A20  ...         32.32       12  2021\n",
              "550271            2           X3       A22  ...         40.73       12  2021\n",
              "\n",
              "[550272 rows x 10 columns]"
            ]
          },
          "metadata": {
            "tags": []
          },
          "execution_count": 8
        }
      ]
    },
    {
      "cell_type": "code",
      "metadata": {
        "colab": {
          "base_uri": "https://localhost:8080/",
          "height": 423
        },
        "id": "gjaJC0avapcE",
        "outputId": "4cfb43d7-5d9e-4463-95b2-092351a97d7f"
      },
      "source": [
        "# coding numerical values for Area Code\n",
        "df2['Manufacturer'] = labelencoder.fit_transform(df2['Manufacturer'])\n",
        "df2"
      ],
      "execution_count": 9,
      "outputs": [
        {
          "output_type": "execute_result",
          "data": {
            "text/html": [
              "<div>\n",
              "<style scoped>\n",
              "    .dataframe tbody tr th:only-of-type {\n",
              "        vertical-align: middle;\n",
              "    }\n",
              "\n",
              "    .dataframe tbody tr th {\n",
              "        vertical-align: top;\n",
              "    }\n",
              "\n",
              "    .dataframe thead th {\n",
              "        text-align: right;\n",
              "    }\n",
              "</style>\n",
              "<table border=\"1\" class=\"dataframe\">\n",
              "  <thead>\n",
              "    <tr style=\"text-align: right;\">\n",
              "      <th></th>\n",
              "      <th>ProductType</th>\n",
              "      <th>Manufacturer</th>\n",
              "      <th>Area Code</th>\n",
              "      <th>Sourcing Channel</th>\n",
              "      <th>Product Size</th>\n",
              "      <th>Product Type</th>\n",
              "      <th>Month of Sourcing</th>\n",
              "      <th>Sourcing Cost</th>\n",
              "      <th>month_no</th>\n",
              "      <th>year</th>\n",
              "    </tr>\n",
              "  </thead>\n",
              "  <tbody>\n",
              "    <tr>\n",
              "      <th>0</th>\n",
              "      <td>2</td>\n",
              "      <td>0</td>\n",
              "      <td>A28</td>\n",
              "      <td>WHOLESALE</td>\n",
              "      <td>Large</td>\n",
              "      <td>Powder</td>\n",
              "      <td>May-21</td>\n",
              "      <td>10.16</td>\n",
              "      <td>11</td>\n",
              "      <td>2021</td>\n",
              "    </tr>\n",
              "    <tr>\n",
              "      <th>1</th>\n",
              "      <td>1</td>\n",
              "      <td>0</td>\n",
              "      <td>A9</td>\n",
              "      <td>DIRECT</td>\n",
              "      <td>Large</td>\n",
              "      <td>Powder</td>\n",
              "      <td>May-21</td>\n",
              "      <td>148.40</td>\n",
              "      <td>11</td>\n",
              "      <td>2021</td>\n",
              "    </tr>\n",
              "    <tr>\n",
              "      <th>2</th>\n",
              "      <td>0</td>\n",
              "      <td>1</td>\n",
              "      <td>A30</td>\n",
              "      <td>RETAIL</td>\n",
              "      <td>Small</td>\n",
              "      <td>Powder</td>\n",
              "      <td>May-21</td>\n",
              "      <td>41.04</td>\n",
              "      <td>11</td>\n",
              "      <td>2021</td>\n",
              "    </tr>\n",
              "    <tr>\n",
              "      <th>3</th>\n",
              "      <td>0</td>\n",
              "      <td>0</td>\n",
              "      <td>A10</td>\n",
              "      <td>DIRECT</td>\n",
              "      <td>Large</td>\n",
              "      <td>Powder</td>\n",
              "      <td>May-21</td>\n",
              "      <td>156.79</td>\n",
              "      <td>11</td>\n",
              "      <td>2021</td>\n",
              "    </tr>\n",
              "    <tr>\n",
              "      <th>4</th>\n",
              "      <td>0</td>\n",
              "      <td>0</td>\n",
              "      <td>A2</td>\n",
              "      <td>ECOM</td>\n",
              "      <td>Small</td>\n",
              "      <td>Powder</td>\n",
              "      <td>May-21</td>\n",
              "      <td>174.83</td>\n",
              "      <td>11</td>\n",
              "      <td>2021</td>\n",
              "    </tr>\n",
              "    <tr>\n",
              "      <th>...</th>\n",
              "      <td>...</td>\n",
              "      <td>...</td>\n",
              "      <td>...</td>\n",
              "      <td>...</td>\n",
              "      <td>...</td>\n",
              "      <td>...</td>\n",
              "      <td>...</td>\n",
              "      <td>...</td>\n",
              "      <td>...</td>\n",
              "      <td>...</td>\n",
              "    </tr>\n",
              "    <tr>\n",
              "      <th>550267</th>\n",
              "      <td>2</td>\n",
              "      <td>0</td>\n",
              "      <td>A44</td>\n",
              "      <td>DIRECT</td>\n",
              "      <td>Small</td>\n",
              "      <td>Liquid</td>\n",
              "      <td>Jun-21</td>\n",
              "      <td>89.57</td>\n",
              "      <td>12</td>\n",
              "      <td>2021</td>\n",
              "    </tr>\n",
              "    <tr>\n",
              "      <th>550268</th>\n",
              "      <td>2</td>\n",
              "      <td>0</td>\n",
              "      <td>A8</td>\n",
              "      <td>DIRECT</td>\n",
              "      <td>Large</td>\n",
              "      <td>Powder</td>\n",
              "      <td>Jun-21</td>\n",
              "      <td>114.57</td>\n",
              "      <td>12</td>\n",
              "      <td>2021</td>\n",
              "    </tr>\n",
              "    <tr>\n",
              "      <th>550269</th>\n",
              "      <td>2</td>\n",
              "      <td>0</td>\n",
              "      <td>A8</td>\n",
              "      <td>DIRECT</td>\n",
              "      <td>Small</td>\n",
              "      <td>Powder</td>\n",
              "      <td>Jun-21</td>\n",
              "      <td>111.26</td>\n",
              "      <td>12</td>\n",
              "      <td>2021</td>\n",
              "    </tr>\n",
              "    <tr>\n",
              "      <th>550270</th>\n",
              "      <td>2</td>\n",
              "      <td>1</td>\n",
              "      <td>A20</td>\n",
              "      <td>DIRECT</td>\n",
              "      <td>Large</td>\n",
              "      <td>Powder</td>\n",
              "      <td>Jun-21</td>\n",
              "      <td>32.32</td>\n",
              "      <td>12</td>\n",
              "      <td>2021</td>\n",
              "    </tr>\n",
              "    <tr>\n",
              "      <th>550271</th>\n",
              "      <td>2</td>\n",
              "      <td>2</td>\n",
              "      <td>A22</td>\n",
              "      <td>RETAIL</td>\n",
              "      <td>Large</td>\n",
              "      <td>Powder</td>\n",
              "      <td>Jun-21</td>\n",
              "      <td>40.73</td>\n",
              "      <td>12</td>\n",
              "      <td>2021</td>\n",
              "    </tr>\n",
              "  </tbody>\n",
              "</table>\n",
              "<p>550272 rows × 10 columns</p>\n",
              "</div>"
            ],
            "text/plain": [
              "        ProductType  Manufacturer Area Code  ... Sourcing Cost month_no  year\n",
              "0                 2             0       A28  ...         10.16       11  2021\n",
              "1                 1             0        A9  ...        148.40       11  2021\n",
              "2                 0             1       A30  ...         41.04       11  2021\n",
              "3                 0             0       A10  ...        156.79       11  2021\n",
              "4                 0             0        A2  ...        174.83       11  2021\n",
              "...             ...           ...       ...  ...           ...      ...   ...\n",
              "550267            2             0       A44  ...         89.57       12  2021\n",
              "550268            2             0        A8  ...        114.57       12  2021\n",
              "550269            2             0        A8  ...        111.26       12  2021\n",
              "550270            2             1       A20  ...         32.32       12  2021\n",
              "550271            2             2       A22  ...         40.73       12  2021\n",
              "\n",
              "[550272 rows x 10 columns]"
            ]
          },
          "metadata": {
            "tags": []
          },
          "execution_count": 9
        }
      ]
    },
    {
      "cell_type": "code",
      "metadata": {
        "colab": {
          "base_uri": "https://localhost:8080/",
          "height": 423
        },
        "id": "8SrhlWb9Zjm_",
        "outputId": "80c6b57f-783a-4dda-f06e-fcea01d78f40"
      },
      "source": [
        "# coding numerical values for Area Code\n",
        "df2['Area Code'] = labelencoder.fit_transform(df2['Area Code'])\n",
        "df2"
      ],
      "execution_count": 10,
      "outputs": [
        {
          "output_type": "execute_result",
          "data": {
            "text/html": [
              "<div>\n",
              "<style scoped>\n",
              "    .dataframe tbody tr th:only-of-type {\n",
              "        vertical-align: middle;\n",
              "    }\n",
              "\n",
              "    .dataframe tbody tr th {\n",
              "        vertical-align: top;\n",
              "    }\n",
              "\n",
              "    .dataframe thead th {\n",
              "        text-align: right;\n",
              "    }\n",
              "</style>\n",
              "<table border=\"1\" class=\"dataframe\">\n",
              "  <thead>\n",
              "    <tr style=\"text-align: right;\">\n",
              "      <th></th>\n",
              "      <th>ProductType</th>\n",
              "      <th>Manufacturer</th>\n",
              "      <th>Area Code</th>\n",
              "      <th>Sourcing Channel</th>\n",
              "      <th>Product Size</th>\n",
              "      <th>Product Type</th>\n",
              "      <th>Month of Sourcing</th>\n",
              "      <th>Sourcing Cost</th>\n",
              "      <th>month_no</th>\n",
              "      <th>year</th>\n",
              "    </tr>\n",
              "  </thead>\n",
              "  <tbody>\n",
              "    <tr>\n",
              "      <th>0</th>\n",
              "      <td>2</td>\n",
              "      <td>0</td>\n",
              "      <td>19</td>\n",
              "      <td>WHOLESALE</td>\n",
              "      <td>Large</td>\n",
              "      <td>Powder</td>\n",
              "      <td>May-21</td>\n",
              "      <td>10.16</td>\n",
              "      <td>11</td>\n",
              "      <td>2021</td>\n",
              "    </tr>\n",
              "    <tr>\n",
              "      <th>1</th>\n",
              "      <td>1</td>\n",
              "      <td>0</td>\n",
              "      <td>44</td>\n",
              "      <td>DIRECT</td>\n",
              "      <td>Large</td>\n",
              "      <td>Powder</td>\n",
              "      <td>May-21</td>\n",
              "      <td>148.40</td>\n",
              "      <td>11</td>\n",
              "      <td>2021</td>\n",
              "    </tr>\n",
              "    <tr>\n",
              "      <th>2</th>\n",
              "      <td>0</td>\n",
              "      <td>1</td>\n",
              "      <td>22</td>\n",
              "      <td>RETAIL</td>\n",
              "      <td>Small</td>\n",
              "      <td>Powder</td>\n",
              "      <td>May-21</td>\n",
              "      <td>41.04</td>\n",
              "      <td>11</td>\n",
              "      <td>2021</td>\n",
              "    </tr>\n",
              "    <tr>\n",
              "      <th>3</th>\n",
              "      <td>0</td>\n",
              "      <td>0</td>\n",
              "      <td>1</td>\n",
              "      <td>DIRECT</td>\n",
              "      <td>Large</td>\n",
              "      <td>Powder</td>\n",
              "      <td>May-21</td>\n",
              "      <td>156.79</td>\n",
              "      <td>11</td>\n",
              "      <td>2021</td>\n",
              "    </tr>\n",
              "    <tr>\n",
              "      <th>4</th>\n",
              "      <td>0</td>\n",
              "      <td>0</td>\n",
              "      <td>11</td>\n",
              "      <td>ECOM</td>\n",
              "      <td>Small</td>\n",
              "      <td>Powder</td>\n",
              "      <td>May-21</td>\n",
              "      <td>174.83</td>\n",
              "      <td>11</td>\n",
              "      <td>2021</td>\n",
              "    </tr>\n",
              "    <tr>\n",
              "      <th>...</th>\n",
              "      <td>...</td>\n",
              "      <td>...</td>\n",
              "      <td>...</td>\n",
              "      <td>...</td>\n",
              "      <td>...</td>\n",
              "      <td>...</td>\n",
              "      <td>...</td>\n",
              "      <td>...</td>\n",
              "      <td>...</td>\n",
              "      <td>...</td>\n",
              "    </tr>\n",
              "    <tr>\n",
              "      <th>550267</th>\n",
              "      <td>2</td>\n",
              "      <td>0</td>\n",
              "      <td>37</td>\n",
              "      <td>DIRECT</td>\n",
              "      <td>Small</td>\n",
              "      <td>Liquid</td>\n",
              "      <td>Jun-21</td>\n",
              "      <td>89.57</td>\n",
              "      <td>12</td>\n",
              "      <td>2021</td>\n",
              "    </tr>\n",
              "    <tr>\n",
              "      <th>550268</th>\n",
              "      <td>2</td>\n",
              "      <td>0</td>\n",
              "      <td>43</td>\n",
              "      <td>DIRECT</td>\n",
              "      <td>Large</td>\n",
              "      <td>Powder</td>\n",
              "      <td>Jun-21</td>\n",
              "      <td>114.57</td>\n",
              "      <td>12</td>\n",
              "      <td>2021</td>\n",
              "    </tr>\n",
              "    <tr>\n",
              "      <th>550269</th>\n",
              "      <td>2</td>\n",
              "      <td>0</td>\n",
              "      <td>43</td>\n",
              "      <td>DIRECT</td>\n",
              "      <td>Small</td>\n",
              "      <td>Powder</td>\n",
              "      <td>Jun-21</td>\n",
              "      <td>111.26</td>\n",
              "      <td>12</td>\n",
              "      <td>2021</td>\n",
              "    </tr>\n",
              "    <tr>\n",
              "      <th>550270</th>\n",
              "      <td>2</td>\n",
              "      <td>1</td>\n",
              "      <td>12</td>\n",
              "      <td>DIRECT</td>\n",
              "      <td>Large</td>\n",
              "      <td>Powder</td>\n",
              "      <td>Jun-21</td>\n",
              "      <td>32.32</td>\n",
              "      <td>12</td>\n",
              "      <td>2021</td>\n",
              "    </tr>\n",
              "    <tr>\n",
              "      <th>550271</th>\n",
              "      <td>2</td>\n",
              "      <td>2</td>\n",
              "      <td>14</td>\n",
              "      <td>RETAIL</td>\n",
              "      <td>Large</td>\n",
              "      <td>Powder</td>\n",
              "      <td>Jun-21</td>\n",
              "      <td>40.73</td>\n",
              "      <td>12</td>\n",
              "      <td>2021</td>\n",
              "    </tr>\n",
              "  </tbody>\n",
              "</table>\n",
              "<p>550272 rows × 10 columns</p>\n",
              "</div>"
            ],
            "text/plain": [
              "        ProductType  Manufacturer  Area Code  ... Sourcing Cost month_no  year\n",
              "0                 2             0         19  ...         10.16       11  2021\n",
              "1                 1             0         44  ...        148.40       11  2021\n",
              "2                 0             1         22  ...         41.04       11  2021\n",
              "3                 0             0          1  ...        156.79       11  2021\n",
              "4                 0             0         11  ...        174.83       11  2021\n",
              "...             ...           ...        ...  ...           ...      ...   ...\n",
              "550267            2             0         37  ...         89.57       12  2021\n",
              "550268            2             0         43  ...        114.57       12  2021\n",
              "550269            2             0         43  ...        111.26       12  2021\n",
              "550270            2             1         12  ...         32.32       12  2021\n",
              "550271            2             2         14  ...         40.73       12  2021\n",
              "\n",
              "[550272 rows x 10 columns]"
            ]
          },
          "metadata": {
            "tags": []
          },
          "execution_count": 10
        }
      ]
    },
    {
      "cell_type": "code",
      "metadata": {
        "colab": {
          "base_uri": "https://localhost:8080/",
          "height": 423
        },
        "id": "_Q2nn9JNZjst",
        "outputId": "57240134-3ae5-4ad7-b746-67507b0a4958"
      },
      "source": [
        "# coding numerical values for Sourcing Channel\n",
        "df2['Sourcing Channel'] = labelencoder.fit_transform(df2['Sourcing Channel'])\n",
        "df2"
      ],
      "execution_count": 11,
      "outputs": [
        {
          "output_type": "execute_result",
          "data": {
            "text/html": [
              "<div>\n",
              "<style scoped>\n",
              "    .dataframe tbody tr th:only-of-type {\n",
              "        vertical-align: middle;\n",
              "    }\n",
              "\n",
              "    .dataframe tbody tr th {\n",
              "        vertical-align: top;\n",
              "    }\n",
              "\n",
              "    .dataframe thead th {\n",
              "        text-align: right;\n",
              "    }\n",
              "</style>\n",
              "<table border=\"1\" class=\"dataframe\">\n",
              "  <thead>\n",
              "    <tr style=\"text-align: right;\">\n",
              "      <th></th>\n",
              "      <th>ProductType</th>\n",
              "      <th>Manufacturer</th>\n",
              "      <th>Area Code</th>\n",
              "      <th>Sourcing Channel</th>\n",
              "      <th>Product Size</th>\n",
              "      <th>Product Type</th>\n",
              "      <th>Month of Sourcing</th>\n",
              "      <th>Sourcing Cost</th>\n",
              "      <th>month_no</th>\n",
              "      <th>year</th>\n",
              "    </tr>\n",
              "  </thead>\n",
              "  <tbody>\n",
              "    <tr>\n",
              "      <th>0</th>\n",
              "      <td>2</td>\n",
              "      <td>0</td>\n",
              "      <td>19</td>\n",
              "      <td>3</td>\n",
              "      <td>Large</td>\n",
              "      <td>Powder</td>\n",
              "      <td>May-21</td>\n",
              "      <td>10.16</td>\n",
              "      <td>11</td>\n",
              "      <td>2021</td>\n",
              "    </tr>\n",
              "    <tr>\n",
              "      <th>1</th>\n",
              "      <td>1</td>\n",
              "      <td>0</td>\n",
              "      <td>44</td>\n",
              "      <td>0</td>\n",
              "      <td>Large</td>\n",
              "      <td>Powder</td>\n",
              "      <td>May-21</td>\n",
              "      <td>148.40</td>\n",
              "      <td>11</td>\n",
              "      <td>2021</td>\n",
              "    </tr>\n",
              "    <tr>\n",
              "      <th>2</th>\n",
              "      <td>0</td>\n",
              "      <td>1</td>\n",
              "      <td>22</td>\n",
              "      <td>2</td>\n",
              "      <td>Small</td>\n",
              "      <td>Powder</td>\n",
              "      <td>May-21</td>\n",
              "      <td>41.04</td>\n",
              "      <td>11</td>\n",
              "      <td>2021</td>\n",
              "    </tr>\n",
              "    <tr>\n",
              "      <th>3</th>\n",
              "      <td>0</td>\n",
              "      <td>0</td>\n",
              "      <td>1</td>\n",
              "      <td>0</td>\n",
              "      <td>Large</td>\n",
              "      <td>Powder</td>\n",
              "      <td>May-21</td>\n",
              "      <td>156.79</td>\n",
              "      <td>11</td>\n",
              "      <td>2021</td>\n",
              "    </tr>\n",
              "    <tr>\n",
              "      <th>4</th>\n",
              "      <td>0</td>\n",
              "      <td>0</td>\n",
              "      <td>11</td>\n",
              "      <td>1</td>\n",
              "      <td>Small</td>\n",
              "      <td>Powder</td>\n",
              "      <td>May-21</td>\n",
              "      <td>174.83</td>\n",
              "      <td>11</td>\n",
              "      <td>2021</td>\n",
              "    </tr>\n",
              "    <tr>\n",
              "      <th>...</th>\n",
              "      <td>...</td>\n",
              "      <td>...</td>\n",
              "      <td>...</td>\n",
              "      <td>...</td>\n",
              "      <td>...</td>\n",
              "      <td>...</td>\n",
              "      <td>...</td>\n",
              "      <td>...</td>\n",
              "      <td>...</td>\n",
              "      <td>...</td>\n",
              "    </tr>\n",
              "    <tr>\n",
              "      <th>550267</th>\n",
              "      <td>2</td>\n",
              "      <td>0</td>\n",
              "      <td>37</td>\n",
              "      <td>0</td>\n",
              "      <td>Small</td>\n",
              "      <td>Liquid</td>\n",
              "      <td>Jun-21</td>\n",
              "      <td>89.57</td>\n",
              "      <td>12</td>\n",
              "      <td>2021</td>\n",
              "    </tr>\n",
              "    <tr>\n",
              "      <th>550268</th>\n",
              "      <td>2</td>\n",
              "      <td>0</td>\n",
              "      <td>43</td>\n",
              "      <td>0</td>\n",
              "      <td>Large</td>\n",
              "      <td>Powder</td>\n",
              "      <td>Jun-21</td>\n",
              "      <td>114.57</td>\n",
              "      <td>12</td>\n",
              "      <td>2021</td>\n",
              "    </tr>\n",
              "    <tr>\n",
              "      <th>550269</th>\n",
              "      <td>2</td>\n",
              "      <td>0</td>\n",
              "      <td>43</td>\n",
              "      <td>0</td>\n",
              "      <td>Small</td>\n",
              "      <td>Powder</td>\n",
              "      <td>Jun-21</td>\n",
              "      <td>111.26</td>\n",
              "      <td>12</td>\n",
              "      <td>2021</td>\n",
              "    </tr>\n",
              "    <tr>\n",
              "      <th>550270</th>\n",
              "      <td>2</td>\n",
              "      <td>1</td>\n",
              "      <td>12</td>\n",
              "      <td>0</td>\n",
              "      <td>Large</td>\n",
              "      <td>Powder</td>\n",
              "      <td>Jun-21</td>\n",
              "      <td>32.32</td>\n",
              "      <td>12</td>\n",
              "      <td>2021</td>\n",
              "    </tr>\n",
              "    <tr>\n",
              "      <th>550271</th>\n",
              "      <td>2</td>\n",
              "      <td>2</td>\n",
              "      <td>14</td>\n",
              "      <td>2</td>\n",
              "      <td>Large</td>\n",
              "      <td>Powder</td>\n",
              "      <td>Jun-21</td>\n",
              "      <td>40.73</td>\n",
              "      <td>12</td>\n",
              "      <td>2021</td>\n",
              "    </tr>\n",
              "  </tbody>\n",
              "</table>\n",
              "<p>550272 rows × 10 columns</p>\n",
              "</div>"
            ],
            "text/plain": [
              "        ProductType  Manufacturer  Area Code  ...  Sourcing Cost month_no  year\n",
              "0                 2             0         19  ...          10.16       11  2021\n",
              "1                 1             0         44  ...         148.40       11  2021\n",
              "2                 0             1         22  ...          41.04       11  2021\n",
              "3                 0             0          1  ...         156.79       11  2021\n",
              "4                 0             0         11  ...         174.83       11  2021\n",
              "...             ...           ...        ...  ...            ...      ...   ...\n",
              "550267            2             0         37  ...          89.57       12  2021\n",
              "550268            2             0         43  ...         114.57       12  2021\n",
              "550269            2             0         43  ...         111.26       12  2021\n",
              "550270            2             1         12  ...          32.32       12  2021\n",
              "550271            2             2         14  ...          40.73       12  2021\n",
              "\n",
              "[550272 rows x 10 columns]"
            ]
          },
          "metadata": {
            "tags": []
          },
          "execution_count": 11
        }
      ]
    },
    {
      "cell_type": "code",
      "metadata": {
        "colab": {
          "base_uri": "https://localhost:8080/",
          "height": 423
        },
        "id": "Yc5F3U7lZjuu",
        "outputId": "3b3aad5c-9a03-4530-dd47-c78a97b99558"
      },
      "source": [
        "# coding numerical values for Product Size\n",
        "df2['Product Size'] = labelencoder.fit_transform(df2['Product Size'])\n",
        "df2"
      ],
      "execution_count": 12,
      "outputs": [
        {
          "output_type": "execute_result",
          "data": {
            "text/html": [
              "<div>\n",
              "<style scoped>\n",
              "    .dataframe tbody tr th:only-of-type {\n",
              "        vertical-align: middle;\n",
              "    }\n",
              "\n",
              "    .dataframe tbody tr th {\n",
              "        vertical-align: top;\n",
              "    }\n",
              "\n",
              "    .dataframe thead th {\n",
              "        text-align: right;\n",
              "    }\n",
              "</style>\n",
              "<table border=\"1\" class=\"dataframe\">\n",
              "  <thead>\n",
              "    <tr style=\"text-align: right;\">\n",
              "      <th></th>\n",
              "      <th>ProductType</th>\n",
              "      <th>Manufacturer</th>\n",
              "      <th>Area Code</th>\n",
              "      <th>Sourcing Channel</th>\n",
              "      <th>Product Size</th>\n",
              "      <th>Product Type</th>\n",
              "      <th>Month of Sourcing</th>\n",
              "      <th>Sourcing Cost</th>\n",
              "      <th>month_no</th>\n",
              "      <th>year</th>\n",
              "    </tr>\n",
              "  </thead>\n",
              "  <tbody>\n",
              "    <tr>\n",
              "      <th>0</th>\n",
              "      <td>2</td>\n",
              "      <td>0</td>\n",
              "      <td>19</td>\n",
              "      <td>3</td>\n",
              "      <td>1</td>\n",
              "      <td>Powder</td>\n",
              "      <td>May-21</td>\n",
              "      <td>10.16</td>\n",
              "      <td>11</td>\n",
              "      <td>2021</td>\n",
              "    </tr>\n",
              "    <tr>\n",
              "      <th>1</th>\n",
              "      <td>1</td>\n",
              "      <td>0</td>\n",
              "      <td>44</td>\n",
              "      <td>0</td>\n",
              "      <td>1</td>\n",
              "      <td>Powder</td>\n",
              "      <td>May-21</td>\n",
              "      <td>148.40</td>\n",
              "      <td>11</td>\n",
              "      <td>2021</td>\n",
              "    </tr>\n",
              "    <tr>\n",
              "      <th>2</th>\n",
              "      <td>0</td>\n",
              "      <td>1</td>\n",
              "      <td>22</td>\n",
              "      <td>2</td>\n",
              "      <td>2</td>\n",
              "      <td>Powder</td>\n",
              "      <td>May-21</td>\n",
              "      <td>41.04</td>\n",
              "      <td>11</td>\n",
              "      <td>2021</td>\n",
              "    </tr>\n",
              "    <tr>\n",
              "      <th>3</th>\n",
              "      <td>0</td>\n",
              "      <td>0</td>\n",
              "      <td>1</td>\n",
              "      <td>0</td>\n",
              "      <td>1</td>\n",
              "      <td>Powder</td>\n",
              "      <td>May-21</td>\n",
              "      <td>156.79</td>\n",
              "      <td>11</td>\n",
              "      <td>2021</td>\n",
              "    </tr>\n",
              "    <tr>\n",
              "      <th>4</th>\n",
              "      <td>0</td>\n",
              "      <td>0</td>\n",
              "      <td>11</td>\n",
              "      <td>1</td>\n",
              "      <td>2</td>\n",
              "      <td>Powder</td>\n",
              "      <td>May-21</td>\n",
              "      <td>174.83</td>\n",
              "      <td>11</td>\n",
              "      <td>2021</td>\n",
              "    </tr>\n",
              "    <tr>\n",
              "      <th>...</th>\n",
              "      <td>...</td>\n",
              "      <td>...</td>\n",
              "      <td>...</td>\n",
              "      <td>...</td>\n",
              "      <td>...</td>\n",
              "      <td>...</td>\n",
              "      <td>...</td>\n",
              "      <td>...</td>\n",
              "      <td>...</td>\n",
              "      <td>...</td>\n",
              "    </tr>\n",
              "    <tr>\n",
              "      <th>550267</th>\n",
              "      <td>2</td>\n",
              "      <td>0</td>\n",
              "      <td>37</td>\n",
              "      <td>0</td>\n",
              "      <td>2</td>\n",
              "      <td>Liquid</td>\n",
              "      <td>Jun-21</td>\n",
              "      <td>89.57</td>\n",
              "      <td>12</td>\n",
              "      <td>2021</td>\n",
              "    </tr>\n",
              "    <tr>\n",
              "      <th>550268</th>\n",
              "      <td>2</td>\n",
              "      <td>0</td>\n",
              "      <td>43</td>\n",
              "      <td>0</td>\n",
              "      <td>1</td>\n",
              "      <td>Powder</td>\n",
              "      <td>Jun-21</td>\n",
              "      <td>114.57</td>\n",
              "      <td>12</td>\n",
              "      <td>2021</td>\n",
              "    </tr>\n",
              "    <tr>\n",
              "      <th>550269</th>\n",
              "      <td>2</td>\n",
              "      <td>0</td>\n",
              "      <td>43</td>\n",
              "      <td>0</td>\n",
              "      <td>2</td>\n",
              "      <td>Powder</td>\n",
              "      <td>Jun-21</td>\n",
              "      <td>111.26</td>\n",
              "      <td>12</td>\n",
              "      <td>2021</td>\n",
              "    </tr>\n",
              "    <tr>\n",
              "      <th>550270</th>\n",
              "      <td>2</td>\n",
              "      <td>1</td>\n",
              "      <td>12</td>\n",
              "      <td>0</td>\n",
              "      <td>1</td>\n",
              "      <td>Powder</td>\n",
              "      <td>Jun-21</td>\n",
              "      <td>32.32</td>\n",
              "      <td>12</td>\n",
              "      <td>2021</td>\n",
              "    </tr>\n",
              "    <tr>\n",
              "      <th>550271</th>\n",
              "      <td>2</td>\n",
              "      <td>2</td>\n",
              "      <td>14</td>\n",
              "      <td>2</td>\n",
              "      <td>1</td>\n",
              "      <td>Powder</td>\n",
              "      <td>Jun-21</td>\n",
              "      <td>40.73</td>\n",
              "      <td>12</td>\n",
              "      <td>2021</td>\n",
              "    </tr>\n",
              "  </tbody>\n",
              "</table>\n",
              "<p>550272 rows × 10 columns</p>\n",
              "</div>"
            ],
            "text/plain": [
              "        ProductType  Manufacturer  Area Code  ...  Sourcing Cost  month_no  year\n",
              "0                 2             0         19  ...          10.16        11  2021\n",
              "1                 1             0         44  ...         148.40        11  2021\n",
              "2                 0             1         22  ...          41.04        11  2021\n",
              "3                 0             0          1  ...         156.79        11  2021\n",
              "4                 0             0         11  ...         174.83        11  2021\n",
              "...             ...           ...        ...  ...            ...       ...   ...\n",
              "550267            2             0         37  ...          89.57        12  2021\n",
              "550268            2             0         43  ...         114.57        12  2021\n",
              "550269            2             0         43  ...         111.26        12  2021\n",
              "550270            2             1         12  ...          32.32        12  2021\n",
              "550271            2             2         14  ...          40.73        12  2021\n",
              "\n",
              "[550272 rows x 10 columns]"
            ]
          },
          "metadata": {
            "tags": []
          },
          "execution_count": 12
        }
      ]
    },
    {
      "cell_type": "code",
      "metadata": {
        "colab": {
          "base_uri": "https://localhost:8080/",
          "height": 423
        },
        "id": "uofmuI4uazcy",
        "outputId": "cfd127b1-b8b5-445a-cec5-603778a7e496"
      },
      "source": [
        "# coding numerical values for Product Type\n",
        "df2['Product Type'] = labelencoder.fit_transform(df2['Product Type'])\n",
        "df2"
      ],
      "execution_count": 13,
      "outputs": [
        {
          "output_type": "execute_result",
          "data": {
            "text/html": [
              "<div>\n",
              "<style scoped>\n",
              "    .dataframe tbody tr th:only-of-type {\n",
              "        vertical-align: middle;\n",
              "    }\n",
              "\n",
              "    .dataframe tbody tr th {\n",
              "        vertical-align: top;\n",
              "    }\n",
              "\n",
              "    .dataframe thead th {\n",
              "        text-align: right;\n",
              "    }\n",
              "</style>\n",
              "<table border=\"1\" class=\"dataframe\">\n",
              "  <thead>\n",
              "    <tr style=\"text-align: right;\">\n",
              "      <th></th>\n",
              "      <th>ProductType</th>\n",
              "      <th>Manufacturer</th>\n",
              "      <th>Area Code</th>\n",
              "      <th>Sourcing Channel</th>\n",
              "      <th>Product Size</th>\n",
              "      <th>Product Type</th>\n",
              "      <th>Month of Sourcing</th>\n",
              "      <th>Sourcing Cost</th>\n",
              "      <th>month_no</th>\n",
              "      <th>year</th>\n",
              "    </tr>\n",
              "  </thead>\n",
              "  <tbody>\n",
              "    <tr>\n",
              "      <th>0</th>\n",
              "      <td>2</td>\n",
              "      <td>0</td>\n",
              "      <td>19</td>\n",
              "      <td>3</td>\n",
              "      <td>1</td>\n",
              "      <td>1</td>\n",
              "      <td>May-21</td>\n",
              "      <td>10.16</td>\n",
              "      <td>11</td>\n",
              "      <td>2021</td>\n",
              "    </tr>\n",
              "    <tr>\n",
              "      <th>1</th>\n",
              "      <td>1</td>\n",
              "      <td>0</td>\n",
              "      <td>44</td>\n",
              "      <td>0</td>\n",
              "      <td>1</td>\n",
              "      <td>1</td>\n",
              "      <td>May-21</td>\n",
              "      <td>148.40</td>\n",
              "      <td>11</td>\n",
              "      <td>2021</td>\n",
              "    </tr>\n",
              "    <tr>\n",
              "      <th>2</th>\n",
              "      <td>0</td>\n",
              "      <td>1</td>\n",
              "      <td>22</td>\n",
              "      <td>2</td>\n",
              "      <td>2</td>\n",
              "      <td>1</td>\n",
              "      <td>May-21</td>\n",
              "      <td>41.04</td>\n",
              "      <td>11</td>\n",
              "      <td>2021</td>\n",
              "    </tr>\n",
              "    <tr>\n",
              "      <th>3</th>\n",
              "      <td>0</td>\n",
              "      <td>0</td>\n",
              "      <td>1</td>\n",
              "      <td>0</td>\n",
              "      <td>1</td>\n",
              "      <td>1</td>\n",
              "      <td>May-21</td>\n",
              "      <td>156.79</td>\n",
              "      <td>11</td>\n",
              "      <td>2021</td>\n",
              "    </tr>\n",
              "    <tr>\n",
              "      <th>4</th>\n",
              "      <td>0</td>\n",
              "      <td>0</td>\n",
              "      <td>11</td>\n",
              "      <td>1</td>\n",
              "      <td>2</td>\n",
              "      <td>1</td>\n",
              "      <td>May-21</td>\n",
              "      <td>174.83</td>\n",
              "      <td>11</td>\n",
              "      <td>2021</td>\n",
              "    </tr>\n",
              "    <tr>\n",
              "      <th>...</th>\n",
              "      <td>...</td>\n",
              "      <td>...</td>\n",
              "      <td>...</td>\n",
              "      <td>...</td>\n",
              "      <td>...</td>\n",
              "      <td>...</td>\n",
              "      <td>...</td>\n",
              "      <td>...</td>\n",
              "      <td>...</td>\n",
              "      <td>...</td>\n",
              "    </tr>\n",
              "    <tr>\n",
              "      <th>550267</th>\n",
              "      <td>2</td>\n",
              "      <td>0</td>\n",
              "      <td>37</td>\n",
              "      <td>0</td>\n",
              "      <td>2</td>\n",
              "      <td>0</td>\n",
              "      <td>Jun-21</td>\n",
              "      <td>89.57</td>\n",
              "      <td>12</td>\n",
              "      <td>2021</td>\n",
              "    </tr>\n",
              "    <tr>\n",
              "      <th>550268</th>\n",
              "      <td>2</td>\n",
              "      <td>0</td>\n",
              "      <td>43</td>\n",
              "      <td>0</td>\n",
              "      <td>1</td>\n",
              "      <td>1</td>\n",
              "      <td>Jun-21</td>\n",
              "      <td>114.57</td>\n",
              "      <td>12</td>\n",
              "      <td>2021</td>\n",
              "    </tr>\n",
              "    <tr>\n",
              "      <th>550269</th>\n",
              "      <td>2</td>\n",
              "      <td>0</td>\n",
              "      <td>43</td>\n",
              "      <td>0</td>\n",
              "      <td>2</td>\n",
              "      <td>1</td>\n",
              "      <td>Jun-21</td>\n",
              "      <td>111.26</td>\n",
              "      <td>12</td>\n",
              "      <td>2021</td>\n",
              "    </tr>\n",
              "    <tr>\n",
              "      <th>550270</th>\n",
              "      <td>2</td>\n",
              "      <td>1</td>\n",
              "      <td>12</td>\n",
              "      <td>0</td>\n",
              "      <td>1</td>\n",
              "      <td>1</td>\n",
              "      <td>Jun-21</td>\n",
              "      <td>32.32</td>\n",
              "      <td>12</td>\n",
              "      <td>2021</td>\n",
              "    </tr>\n",
              "    <tr>\n",
              "      <th>550271</th>\n",
              "      <td>2</td>\n",
              "      <td>2</td>\n",
              "      <td>14</td>\n",
              "      <td>2</td>\n",
              "      <td>1</td>\n",
              "      <td>1</td>\n",
              "      <td>Jun-21</td>\n",
              "      <td>40.73</td>\n",
              "      <td>12</td>\n",
              "      <td>2021</td>\n",
              "    </tr>\n",
              "  </tbody>\n",
              "</table>\n",
              "<p>550272 rows × 10 columns</p>\n",
              "</div>"
            ],
            "text/plain": [
              "        ProductType  Manufacturer  Area Code  ...  Sourcing Cost  month_no  year\n",
              "0                 2             0         19  ...          10.16        11  2021\n",
              "1                 1             0         44  ...         148.40        11  2021\n",
              "2                 0             1         22  ...          41.04        11  2021\n",
              "3                 0             0          1  ...         156.79        11  2021\n",
              "4                 0             0         11  ...         174.83        11  2021\n",
              "...             ...           ...        ...  ...            ...       ...   ...\n",
              "550267            2             0         37  ...          89.57        12  2021\n",
              "550268            2             0         43  ...         114.57        12  2021\n",
              "550269            2             0         43  ...         111.26        12  2021\n",
              "550270            2             1         12  ...          32.32        12  2021\n",
              "550271            2             2         14  ...          40.73        12  2021\n",
              "\n",
              "[550272 rows x 10 columns]"
            ]
          },
          "metadata": {
            "tags": []
          },
          "execution_count": 13
        }
      ]
    },
    {
      "cell_type": "code",
      "metadata": {
        "id": "4p5cCGuDTBmc"
      },
      "source": [
        "# splitting traning and test data set\n",
        "train=df2[df2['month_no']!=12]\n",
        "test=df2[df2['month_no']==12]"
      ],
      "execution_count": 14,
      "outputs": []
    },
    {
      "cell_type": "code",
      "metadata": {
        "id": "z2uR2w87Tcp-"
      },
      "source": [
        "# reassigning train data set to df2\n",
        "df2=train"
      ],
      "execution_count": 15,
      "outputs": []
    },
    {
      "cell_type": "code",
      "metadata": {
        "id": "hn3YT_9A4QQA"
      },
      "source": [
        "#list of columns that are categorical\n",
        "x = df2[['ProductType','Manufacturer','Area Code','Sourcing Channel','Product Size','Product Type','month_no']]\n",
        "y=df2[\"Sourcing Cost\"]"
      ],
      "execution_count": 16,
      "outputs": []
    },
    {
      "cell_type": "code",
      "metadata": {
        "colab": {
          "base_uri": "https://localhost:8080/"
        },
        "id": "0YbErqbYdhTN",
        "outputId": "e4155322-8be2-4e03-b3dd-5e4bc0ac274b"
      },
      "source": [
        "# Fitting Random Forest Regression to the dataset\n",
        "# import the regressor\n",
        "from sklearn.ensemble import RandomForestRegressor\n",
        "  \n",
        " # create regressor object\n",
        "regressor = RandomForestRegressor(n_estimators = 250, random_state = 5,max_depth=5)\n",
        "  \n",
        "# fit the regressor with x and y data\n",
        "regressor.fit(x, y)  "
      ],
      "execution_count": 23,
      "outputs": [
        {
          "output_type": "execute_result",
          "data": {
            "text/plain": [
              "RandomForestRegressor(bootstrap=True, ccp_alpha=0.0, criterion='mse',\n",
              "                      max_depth=5, max_features='auto', max_leaf_nodes=None,\n",
              "                      max_samples=None, min_impurity_decrease=0.0,\n",
              "                      min_impurity_split=None, min_samples_leaf=1,\n",
              "                      min_samples_split=2, min_weight_fraction_leaf=0.0,\n",
              "                      n_estimators=250, n_jobs=None, oob_score=False,\n",
              "                      random_state=5, verbose=0, warm_start=False)"
            ]
          },
          "metadata": {
            "tags": []
          },
          "execution_count": 23
        }
      ]
    },
    {
      "cell_type": "code",
      "metadata": {
        "id": "2AYQOtNqdhWP",
        "colab": {
          "base_uri": "https://localhost:8080/"
        },
        "outputId": "d63ce039-032c-459f-e6ea-b4c88c8db951"
      },
      "source": [
        "# forecasting\n",
        "df2['y_pred'] = regressor.predict(x)  # test the output by changing values"
      ],
      "execution_count": 24,
      "outputs": [
        {
          "output_type": "stream",
          "text": [
            "/usr/local/lib/python3.7/dist-packages/ipykernel_launcher.py:2: SettingWithCopyWarning: \n",
            "A value is trying to be set on a copy of a slice from a DataFrame.\n",
            "Try using .loc[row_indexer,col_indexer] = value instead\n",
            "\n",
            "See the caveats in the documentation: https://pandas.pydata.org/pandas-docs/stable/user_guide/indexing.html#returning-a-view-versus-a-copy\n",
            "  \n"
          ],
          "name": "stderr"
        }
      ]
    },
    {
      "cell_type": "code",
      "metadata": {
        "id": "B4MdYrdOdhbx",
        "colab": {
          "base_uri": "https://localhost:8080/"
        },
        "outputId": "c972afe8-6e8e-45d0-f282-5ad9acf97c39"
      },
      "source": [
        "# rmse for rf\n",
        "from sklearn.metrics import mean_squared_error\n",
        "import math\n",
        "mse = mean_squared_error(df2['Sourcing Cost'], df2['y_pred'])\n",
        "rmse = math.sqrt(mse)\n",
        "print(rmse)"
      ],
      "execution_count": 25,
      "outputs": [
        {
          "output_type": "stream",
          "text": [
            "92.83469549737967\n"
          ],
          "name": "stdout"
        }
      ]
    },
    {
      "cell_type": "code",
      "metadata": {
        "id": "PKiRh5ANkB3y"
      },
      "source": [
        "# forecasting\n",
        "test1=test[['ProductType','Manufacturer','Area Code','Sourcing Channel','Product Size','Product Type','month_no']]\n"
      ],
      "execution_count": 30,
      "outputs": []
    },
    {
      "cell_type": "code",
      "metadata": {
        "id": "2mcJQ1HNF0Yg",
        "colab": {
          "base_uri": "https://localhost:8080/"
        },
        "outputId": "df90a685-e4e2-43aa-9052-dbf0049c9a19"
      },
      "source": [
        "# forecasting\n",
        "test1=test[['ProductType','Manufacturer','Area Code','Sourcing Channel','Product Size','Product Type','month_no']]\n",
        "test['y_pred'] = regressor.predict(test1)  # test the output by changing values\n",
        "# rmse for rf- test\n",
        "from sklearn.metrics import mean_squared_error\n",
        "import math\n",
        "mse = mean_squared_error(test['Sourcing Cost'], test['y_pred'])\n",
        "rmse = math.sqrt(mse)\n",
        "print(rmse)"
      ],
      "execution_count": 26,
      "outputs": [
        {
          "output_type": "stream",
          "text": [
            "38.41313941214172\n"
          ],
          "name": "stdout"
        },
        {
          "output_type": "stream",
          "text": [
            "/usr/local/lib/python3.7/dist-packages/ipykernel_launcher.py:3: SettingWithCopyWarning: \n",
            "A value is trying to be set on a copy of a slice from a DataFrame.\n",
            "Try using .loc[row_indexer,col_indexer] = value instead\n",
            "\n",
            "See the caveats in the documentation: https://pandas.pydata.org/pandas-docs/stable/user_guide/indexing.html#returning-a-view-versus-a-copy\n",
            "  This is separate from the ipykernel package so we can avoid doing imports until\n"
          ],
          "name": "stderr"
        }
      ]
    },
    {
      "cell_type": "markdown",
      "metadata": {
        "id": "ooQAWKuEEuiI"
      },
      "source": [
        "#**pycart** **AUTOML**"
      ]
    },
    {
      "cell_type": "code",
      "metadata": {
        "colab": {
          "base_uri": "https://localhost:8080/",
          "height": 1000
        },
        "id": "-MlUKDrtzeis",
        "outputId": "6e0772af-4912-44f2-db01-cc3d7915b726"
      },
      "source": [
        "# installing pycaret packag\n",
        "!pip install pycaret"
      ],
      "execution_count": null,
      "outputs": [
        {
          "output_type": "stream",
          "text": [
            "Collecting pycaret\n",
            "  Downloading pycaret-2.3.2-py3-none-any.whl (263 kB)\n",
            "\u001b[?25l\r\u001b[K     |█▎                              | 10 kB 28.7 MB/s eta 0:00:01\r\u001b[K     |██▌                             | 20 kB 33.2 MB/s eta 0:00:01\r\u001b[K     |███▊                            | 30 kB 36.5 MB/s eta 0:00:01\r\u001b[K     |█████                           | 40 kB 40.7 MB/s eta 0:00:01\r\u001b[K     |██████▏                         | 51 kB 35.1 MB/s eta 0:00:01\r\u001b[K     |███████▌                        | 61 kB 37.8 MB/s eta 0:00:01\r\u001b[K     |████████▊                       | 71 kB 27.5 MB/s eta 0:00:01\r\u001b[K     |██████████                      | 81 kB 28.0 MB/s eta 0:00:01\r\u001b[K     |███████████▏                    | 92 kB 29.9 MB/s eta 0:00:01\r\u001b[K     |████████████▍                   | 102 kB 30.6 MB/s eta 0:00:01\r\u001b[K     |█████████████▊                  | 112 kB 30.6 MB/s eta 0:00:01\r\u001b[K     |███████████████                 | 122 kB 30.6 MB/s eta 0:00:01\r\u001b[K     |████████████████▏               | 133 kB 30.6 MB/s eta 0:00:01\r\u001b[K     |█████████████████▍              | 143 kB 30.6 MB/s eta 0:00:01\r\u001b[K     |██████████████████▋             | 153 kB 30.6 MB/s eta 0:00:01\r\u001b[K     |███████████████████▉            | 163 kB 30.6 MB/s eta 0:00:01\r\u001b[K     |█████████████████████▏          | 174 kB 30.6 MB/s eta 0:00:01\r\u001b[K     |██████████████████████▍         | 184 kB 30.6 MB/s eta 0:00:01\r\u001b[K     |███████████████████████▋        | 194 kB 30.6 MB/s eta 0:00:01\r\u001b[K     |████████████████████████▉       | 204 kB 30.6 MB/s eta 0:00:01\r\u001b[K     |██████████████████████████      | 215 kB 30.6 MB/s eta 0:00:01\r\u001b[K     |███████████████████████████▍    | 225 kB 30.6 MB/s eta 0:00:01\r\u001b[K     |████████████████████████████▋   | 235 kB 30.6 MB/s eta 0:00:01\r\u001b[K     |█████████████████████████████▉  | 245 kB 30.6 MB/s eta 0:00:01\r\u001b[K     |███████████████████████████████ | 256 kB 30.6 MB/s eta 0:00:01\r\u001b[K     |████████████████████████████████| 263 kB 30.6 MB/s \n",
            "\u001b[?25hRequirement already satisfied: plotly>=4.4.1 in /usr/local/lib/python3.7/dist-packages (from pycaret) (4.4.1)\n",
            "Collecting scikit-plot\n",
            "  Downloading scikit_plot-0.3.7-py3-none-any.whl (33 kB)\n",
            "Requirement already satisfied: IPython in /usr/local/lib/python3.7/dist-packages (from pycaret) (5.5.0)\n",
            "Collecting pandas-profiling>=2.8.0\n",
            "  Downloading pandas_profiling-3.0.0-py2.py3-none-any.whl (248 kB)\n",
            "\u001b[?25l\r\u001b[K     |█▎                              | 10 kB 41.0 MB/s eta 0:00:01\r\u001b[K     |██▋                             | 20 kB 49.0 MB/s eta 0:00:01\r\u001b[K     |████                            | 30 kB 58.0 MB/s eta 0:00:01\r\u001b[K     |█████▎                          | 40 kB 63.5 MB/s eta 0:00:01\r\u001b[K     |██████▋                         | 51 kB 65.5 MB/s eta 0:00:01\r\u001b[K     |████████                        | 61 kB 71.5 MB/s eta 0:00:01\r\u001b[K     |█████████▎                      | 71 kB 72.9 MB/s eta 0:00:01\r\u001b[K     |██████████▌                     | 81 kB 75.8 MB/s eta 0:00:01\r\u001b[K     |███████████▉                    | 92 kB 77.0 MB/s eta 0:00:01\r\u001b[K     |█████████████▏                  | 102 kB 77.7 MB/s eta 0:00:01\r\u001b[K     |██████████████▌                 | 112 kB 77.7 MB/s eta 0:00:01\r\u001b[K     |███████████████▉                | 122 kB 77.7 MB/s eta 0:00:01\r\u001b[K     |█████████████████▏              | 133 kB 77.7 MB/s eta 0:00:01\r\u001b[K     |██████████████████▌             | 143 kB 77.7 MB/s eta 0:00:01\r\u001b[K     |███████████████████▉            | 153 kB 77.7 MB/s eta 0:00:01\r\u001b[K     |█████████████████████           | 163 kB 77.7 MB/s eta 0:00:01\r\u001b[K     |██████████████████████▍         | 174 kB 77.7 MB/s eta 0:00:01\r\u001b[K     |███████████████████████▊        | 184 kB 77.7 MB/s eta 0:00:01\r\u001b[K     |█████████████████████████       | 194 kB 77.7 MB/s eta 0:00:01\r\u001b[K     |██████████████████████████▍     | 204 kB 77.7 MB/s eta 0:00:01\r\u001b[K     |███████████████████████████▊    | 215 kB 77.7 MB/s eta 0:00:01\r\u001b[K     |█████████████████████████████   | 225 kB 77.7 MB/s eta 0:00:01\r\u001b[K     |██████████████████████████████▎ | 235 kB 77.7 MB/s eta 0:00:01\r\u001b[K     |███████████████████████████████▋| 245 kB 77.7 MB/s eta 0:00:01\r\u001b[K     |████████████████████████████████| 248 kB 77.7 MB/s \n",
            "\u001b[?25hCollecting mlxtend>=0.17.0\n",
            "  Downloading mlxtend-0.18.0-py2.py3-none-any.whl (1.3 MB)\n",
            "\u001b[K     |████████████████████████████████| 1.3 MB 45.8 MB/s \n",
            "\u001b[?25hRequirement already satisfied: textblob in /usr/local/lib/python3.7/dist-packages (from pycaret) (0.15.3)\n",
            "Requirement already satisfied: cufflinks>=0.17.0 in /usr/local/lib/python3.7/dist-packages (from pycaret) (0.17.3)\n",
            "Requirement already satisfied: spacy<2.4.0 in /usr/local/lib/python3.7/dist-packages (from pycaret) (2.2.4)\n",
            "Requirement already satisfied: scipy<=1.5.4 in /usr/local/lib/python3.7/dist-packages (from pycaret) (1.4.1)\n",
            "Collecting mlflow\n",
            "  Downloading mlflow-1.19.0-py3-none-any.whl (14.4 MB)\n",
            "\u001b[K     |████████████████████████████████| 14.4 MB 62 kB/s \n",
            "\u001b[?25hCollecting Boruta\n",
            "  Downloading Boruta-0.3-py3-none-any.whl (56 kB)\n",
            "\u001b[K     |████████████████████████████████| 56 kB 5.3 MB/s \n",
            "\u001b[?25hCollecting kmodes>=0.10.1\n",
            "  Downloading kmodes-0.11.0-py2.py3-none-any.whl (18 kB)\n",
            "Requirement already satisfied: nltk in /usr/local/lib/python3.7/dist-packages (from pycaret) (3.2.5)\n",
            "Collecting pyod\n",
            "  Downloading pyod-0.9.0.tar.gz (105 kB)\n",
            "\u001b[K     |████████████████████████████████| 105 kB 61.0 MB/s \n",
            "\u001b[?25hCollecting imbalanced-learn==0.7.0\n",
            "  Downloading imbalanced_learn-0.7.0-py3-none-any.whl (167 kB)\n",
            "\u001b[K     |████████████████████████████████| 167 kB 72.3 MB/s \n",
            "\u001b[?25hCollecting umap-learn\n",
            "  Downloading umap-learn-0.5.1.tar.gz (80 kB)\n",
            "\u001b[K     |████████████████████████████████| 80 kB 10.9 MB/s \n",
            "\u001b[?25hRequirement already satisfied: joblib in /usr/local/lib/python3.7/dist-packages (from pycaret) (1.0.1)\n",
            "Collecting scikit-learn==0.23.2\n",
            "  Downloading scikit_learn-0.23.2-cp37-cp37m-manylinux1_x86_64.whl (6.8 MB)\n",
            "\u001b[K     |████████████████████████████████| 6.8 MB 44.7 MB/s \n",
            "\u001b[?25hRequirement already satisfied: gensim<4.0.0 in /usr/local/lib/python3.7/dist-packages (from pycaret) (3.6.0)\n",
            "Requirement already satisfied: matplotlib in /usr/local/lib/python3.7/dist-packages (from pycaret) (3.2.2)\n",
            "Requirement already satisfied: wordcloud in /usr/local/lib/python3.7/dist-packages (from pycaret) (1.5.0)\n",
            "Collecting yellowbrick>=1.0.1\n",
            "  Downloading yellowbrick-1.3.post1-py3-none-any.whl (271 kB)\n",
            "\u001b[K     |████████████████████████████████| 271 kB 54.8 MB/s \n",
            "\u001b[?25hRequirement already satisfied: seaborn in /usr/local/lib/python3.7/dist-packages (from pycaret) (0.11.1)\n",
            "Requirement already satisfied: pandas in /usr/local/lib/python3.7/dist-packages (from pycaret) (1.1.5)\n",
            "Requirement already satisfied: numpy==1.19.5 in /usr/local/lib/python3.7/dist-packages (from pycaret) (1.19.5)\n",
            "Collecting pyLDAvis\n",
            "  Downloading pyLDAvis-3.3.1.tar.gz (1.7 MB)\n",
            "\u001b[K     |████████████████████████████████| 1.7 MB 57.8 MB/s \n",
            "\u001b[?25h  Installing build dependencies ... \u001b[?25l\u001b[?25hdone\n",
            "  Getting requirements to build wheel ... \u001b[?25l\u001b[?25hdone\n",
            "  Installing backend dependencies ... \u001b[?25l\u001b[?25hdone\n",
            "    Preparing wheel metadata ... \u001b[?25l\u001b[?25hdone\n",
            "Requirement already satisfied: ipywidgets in /usr/local/lib/python3.7/dist-packages (from pycaret) (7.6.3)\n",
            "Collecting lightgbm>=2.3.1\n",
            "  Downloading lightgbm-3.2.1-py3-none-manylinux1_x86_64.whl (2.0 MB)\n",
            "\u001b[K     |████████████████████████████████| 2.0 MB 30.0 MB/s \n",
            "\u001b[?25hCollecting threadpoolctl>=2.0.0\n",
            "  Downloading threadpoolctl-2.2.0-py3-none-any.whl (12 kB)\n",
            "Requirement already satisfied: six>=1.9.0 in /usr/local/lib/python3.7/dist-packages (from cufflinks>=0.17.0->pycaret) (1.15.0)\n",
            "Requirement already satisfied: setuptools>=34.4.1 in /usr/local/lib/python3.7/dist-packages (from cufflinks>=0.17.0->pycaret) (57.2.0)\n",
            "Requirement already satisfied: colorlover>=0.2.1 in /usr/local/lib/python3.7/dist-packages (from cufflinks>=0.17.0->pycaret) (0.3.0)\n",
            "Requirement already satisfied: smart-open>=1.2.1 in /usr/local/lib/python3.7/dist-packages (from gensim<4.0.0->pycaret) (5.1.0)\n",
            "Requirement already satisfied: prompt-toolkit<2.0.0,>=1.0.4 in /usr/local/lib/python3.7/dist-packages (from IPython->pycaret) (1.0.18)\n",
            "Requirement already satisfied: pygments in /usr/local/lib/python3.7/dist-packages (from IPython->pycaret) (2.6.1)\n",
            "Requirement already satisfied: pexpect in /usr/local/lib/python3.7/dist-packages (from IPython->pycaret) (4.8.0)\n",
            "Requirement already satisfied: pickleshare in /usr/local/lib/python3.7/dist-packages (from IPython->pycaret) (0.7.5)\n",
            "Requirement already satisfied: decorator in /usr/local/lib/python3.7/dist-packages (from IPython->pycaret) (4.4.2)\n",
            "Requirement already satisfied: traitlets>=4.2 in /usr/local/lib/python3.7/dist-packages (from IPython->pycaret) (5.0.5)\n",
            "Requirement already satisfied: simplegeneric>0.8 in /usr/local/lib/python3.7/dist-packages (from IPython->pycaret) (0.8.1)\n",
            "Requirement already satisfied: widgetsnbextension~=3.5.0 in /usr/local/lib/python3.7/dist-packages (from ipywidgets->pycaret) (3.5.1)\n",
            "Requirement already satisfied: jupyterlab-widgets>=1.0.0 in /usr/local/lib/python3.7/dist-packages (from ipywidgets->pycaret) (1.0.0)\n",
            "Requirement already satisfied: nbformat>=4.2.0 in /usr/local/lib/python3.7/dist-packages (from ipywidgets->pycaret) (5.1.3)\n",
            "Requirement already satisfied: ipykernel>=4.5.1 in /usr/local/lib/python3.7/dist-packages (from ipywidgets->pycaret) (4.10.1)\n",
            "Requirement already satisfied: jupyter-client in /usr/local/lib/python3.7/dist-packages (from ipykernel>=4.5.1->ipywidgets->pycaret) (5.3.5)\n",
            "Requirement already satisfied: tornado>=4.0 in /usr/local/lib/python3.7/dist-packages (from ipykernel>=4.5.1->ipywidgets->pycaret) (5.1.1)\n",
            "Requirement already satisfied: wheel in /usr/local/lib/python3.7/dist-packages (from lightgbm>=2.3.1->pycaret) (0.36.2)\n",
            "Requirement already satisfied: python-dateutil>=2.1 in /usr/local/lib/python3.7/dist-packages (from matplotlib->pycaret) (2.8.1)\n",
            "Requirement already satisfied: kiwisolver>=1.0.1 in /usr/local/lib/python3.7/dist-packages (from matplotlib->pycaret) (1.3.1)\n",
            "Requirement already satisfied: cycler>=0.10 in /usr/local/lib/python3.7/dist-packages (from matplotlib->pycaret) (0.10.0)\n",
            "Requirement already satisfied: pyparsing!=2.0.4,!=2.1.2,!=2.1.6,>=2.0.1 in /usr/local/lib/python3.7/dist-packages (from matplotlib->pycaret) (2.4.7)\n",
            "Requirement already satisfied: jupyter-core in /usr/local/lib/python3.7/dist-packages (from nbformat>=4.2.0->ipywidgets->pycaret) (4.7.1)\n",
            "Requirement already satisfied: jsonschema!=2.5.0,>=2.4 in /usr/local/lib/python3.7/dist-packages (from nbformat>=4.2.0->ipywidgets->pycaret) (2.6.0)\n",
            "Requirement already satisfied: ipython-genutils in /usr/local/lib/python3.7/dist-packages (from nbformat>=4.2.0->ipywidgets->pycaret) (0.2.0)\n",
            "Requirement already satisfied: pytz>=2017.2 in /usr/local/lib/python3.7/dist-packages (from pandas->pycaret) (2018.9)\n",
            "Collecting visions[type_image_path]==0.7.1\n",
            "  Downloading visions-0.7.1-py3-none-any.whl (102 kB)\n",
            "\u001b[K     |████████████████████████████████| 102 kB 44.7 MB/s \n",
            "\u001b[?25hCollecting PyYAML>=5.0.0\n",
            "  Downloading PyYAML-5.4.1-cp37-cp37m-manylinux1_x86_64.whl (636 kB)\n",
            "\u001b[K     |████████████████████████████████| 636 kB 50.6 MB/s \n",
            "\u001b[?25hRequirement already satisfied: jinja2>=2.11.1 in /usr/local/lib/python3.7/dist-packages (from pandas-profiling>=2.8.0->pycaret) (2.11.3)\n",
            "Collecting requests>=2.24.0\n",
            "  Downloading requests-2.26.0-py2.py3-none-any.whl (62 kB)\n",
            "\u001b[K     |████████████████████████████████| 62 kB 898 kB/s \n",
            "\u001b[?25hRequirement already satisfied: missingno>=0.4.2 in /usr/local/lib/python3.7/dist-packages (from pandas-profiling>=2.8.0->pycaret) (0.5.0)\n",
            "Collecting tqdm>=4.48.2\n",
            "  Downloading tqdm-4.61.2-py2.py3-none-any.whl (76 kB)\n",
            "\u001b[K     |████████████████████████████████| 76 kB 5.2 MB/s \n",
            "\u001b[?25hCollecting pydantic>=1.8.1\n",
            "  Downloading pydantic-1.8.2-cp37-cp37m-manylinux2014_x86_64.whl (10.1 MB)\n",
            "\u001b[K     |████████████████████████████████| 10.1 MB 43.2 MB/s \n",
            "\u001b[?25hCollecting htmlmin>=0.1.12\n",
            "  Downloading htmlmin-0.1.12.tar.gz (19 kB)\n",
            "Collecting tangled-up-in-unicode==0.1.0\n",
            "  Downloading tangled_up_in_unicode-0.1.0-py3-none-any.whl (3.1 MB)\n",
            "\u001b[K     |████████████████████████████████| 3.1 MB 42.5 MB/s \n",
            "\u001b[?25hCollecting phik>=0.11.1\n",
            "  Downloading phik-0.11.2.tar.gz (1.1 MB)\n",
            "\u001b[K     |████████████████████████████████| 1.1 MB 49.6 MB/s \n",
            "\u001b[?25hRequirement already satisfied: networkx>=2.4 in /usr/local/lib/python3.7/dist-packages (from visions[type_image_path]==0.7.1->pandas-profiling>=2.8.0->pycaret) (2.5.1)\n",
            "Requirement already satisfied: attrs>=19.3.0 in /usr/local/lib/python3.7/dist-packages (from visions[type_image_path]==0.7.1->pandas-profiling>=2.8.0->pycaret) (21.2.0)\n",
            "Collecting multimethod==1.4\n",
            "  Downloading multimethod-1.4-py2.py3-none-any.whl (7.3 kB)\n",
            "Requirement already satisfied: bottleneck in /usr/local/lib/python3.7/dist-packages (from visions[type_image_path]==0.7.1->pandas-profiling>=2.8.0->pycaret) (1.3.2)\n",
            "Requirement already satisfied: Pillow in /usr/local/lib/python3.7/dist-packages (from visions[type_image_path]==0.7.1->pandas-profiling>=2.8.0->pycaret) (7.1.2)\n",
            "Collecting imagehash\n",
            "  Downloading ImageHash-4.2.1.tar.gz (812 kB)\n",
            "\u001b[K     |████████████████████████████████| 812 kB 46.3 MB/s \n",
            "\u001b[?25hRequirement already satisfied: MarkupSafe>=0.23 in /usr/local/lib/python3.7/dist-packages (from jinja2>=2.11.1->pandas-profiling>=2.8.0->pycaret) (2.0.1)\n",
            "Collecting scipy<=1.5.4\n",
            "  Downloading scipy-1.5.4-cp37-cp37m-manylinux1_x86_64.whl (25.9 MB)\n",
            "\u001b[K     |████████████████████████████████| 25.9 MB 959 bytes/s \n",
            "\u001b[?25hRequirement already satisfied: retrying>=1.3.3 in /usr/local/lib/python3.7/dist-packages (from plotly>=4.4.1->pycaret) (1.3.3)\n",
            "Requirement already satisfied: wcwidth in /usr/local/lib/python3.7/dist-packages (from prompt-toolkit<2.0.0,>=1.0.4->IPython->pycaret) (0.2.5)\n",
            "Requirement already satisfied: typing-extensions>=3.7.4.3 in /usr/local/lib/python3.7/dist-packages (from pydantic>=1.8.1->pandas-profiling>=2.8.0->pycaret) (3.7.4.3)\n",
            "Requirement already satisfied: certifi>=2017.4.17 in /usr/local/lib/python3.7/dist-packages (from requests>=2.24.0->pandas-profiling>=2.8.0->pycaret) (2021.5.30)\n",
            "Requirement already satisfied: urllib3<1.27,>=1.21.1 in /usr/local/lib/python3.7/dist-packages (from requests>=2.24.0->pandas-profiling>=2.8.0->pycaret) (1.24.3)\n",
            "Requirement already satisfied: idna<4,>=2.5 in /usr/local/lib/python3.7/dist-packages (from requests>=2.24.0->pandas-profiling>=2.8.0->pycaret) (2.10)\n",
            "Requirement already satisfied: charset-normalizer~=2.0.0 in /usr/local/lib/python3.7/dist-packages (from requests>=2.24.0->pandas-profiling>=2.8.0->pycaret) (2.0.2)\n",
            "Requirement already satisfied: blis<0.5.0,>=0.4.0 in /usr/local/lib/python3.7/dist-packages (from spacy<2.4.0->pycaret) (0.4.1)\n",
            "Requirement already satisfied: plac<1.2.0,>=0.9.6 in /usr/local/lib/python3.7/dist-packages (from spacy<2.4.0->pycaret) (1.1.3)\n",
            "Requirement already satisfied: preshed<3.1.0,>=3.0.2 in /usr/local/lib/python3.7/dist-packages (from spacy<2.4.0->pycaret) (3.0.5)\n",
            "Requirement already satisfied: cymem<2.1.0,>=2.0.2 in /usr/local/lib/python3.7/dist-packages (from spacy<2.4.0->pycaret) (2.0.5)\n",
            "Requirement already satisfied: catalogue<1.1.0,>=0.0.7 in /usr/local/lib/python3.7/dist-packages (from spacy<2.4.0->pycaret) (1.0.0)\n",
            "Requirement already satisfied: murmurhash<1.1.0,>=0.28.0 in /usr/local/lib/python3.7/dist-packages (from spacy<2.4.0->pycaret) (1.0.5)\n",
            "Requirement already satisfied: thinc==7.4.0 in /usr/local/lib/python3.7/dist-packages (from spacy<2.4.0->pycaret) (7.4.0)\n",
            "Requirement already satisfied: srsly<1.1.0,>=1.0.2 in /usr/local/lib/python3.7/dist-packages (from spacy<2.4.0->pycaret) (1.0.5)\n",
            "Requirement already satisfied: wasabi<1.1.0,>=0.4.0 in /usr/local/lib/python3.7/dist-packages (from spacy<2.4.0->pycaret) (0.8.2)\n",
            "Requirement already satisfied: importlib-metadata>=0.20 in /usr/local/lib/python3.7/dist-packages (from catalogue<1.1.0,>=0.0.7->spacy<2.4.0->pycaret) (4.6.1)\n",
            "Requirement already satisfied: zipp>=0.5 in /usr/local/lib/python3.7/dist-packages (from importlib-metadata>=0.20->catalogue<1.1.0,>=0.0.7->spacy<2.4.0->pycaret) (3.5.0)\n",
            "Requirement already satisfied: notebook>=4.4.1 in /usr/local/lib/python3.7/dist-packages (from widgetsnbextension~=3.5.0->ipywidgets->pycaret) (5.3.1)\n",
            "Requirement already satisfied: nbconvert in /usr/local/lib/python3.7/dist-packages (from notebook>=4.4.1->widgetsnbextension~=3.5.0->ipywidgets->pycaret) (5.6.1)\n",
            "Requirement already satisfied: Send2Trash in /usr/local/lib/python3.7/dist-packages (from notebook>=4.4.1->widgetsnbextension~=3.5.0->ipywidgets->pycaret) (1.7.1)\n",
            "Requirement already satisfied: terminado>=0.8.1 in /usr/local/lib/python3.7/dist-packages (from notebook>=4.4.1->widgetsnbextension~=3.5.0->ipywidgets->pycaret) (0.10.1)\n",
            "Requirement already satisfied: pyzmq>=13 in /usr/local/lib/python3.7/dist-packages (from jupyter-client->ipykernel>=4.5.1->ipywidgets->pycaret) (22.1.0)\n",
            "Requirement already satisfied: ptyprocess in /usr/local/lib/python3.7/dist-packages (from terminado>=0.8.1->notebook>=4.4.1->widgetsnbextension~=3.5.0->ipywidgets->pycaret) (0.7.0)\n",
            "Requirement already satisfied: PyWavelets in /usr/local/lib/python3.7/dist-packages (from imagehash->visions[type_image_path]==0.7.1->pandas-profiling>=2.8.0->pycaret) (1.1.1)\n",
            "Requirement already satisfied: protobuf>=3.7.0 in /usr/local/lib/python3.7/dist-packages (from mlflow->pycaret) (3.17.3)\n",
            "Collecting alembic<=1.4.1\n",
            "  Downloading alembic-1.4.1.tar.gz (1.1 MB)\n",
            "\u001b[K     |████████████████████████████████| 1.1 MB 40.7 MB/s \n",
            "\u001b[?25hRequirement already satisfied: packaging in /usr/local/lib/python3.7/dist-packages (from mlflow->pycaret) (21.0)\n",
            "Collecting gitpython>=2.1.0\n",
            "  Downloading GitPython-3.1.18-py3-none-any.whl (170 kB)\n",
            "\u001b[K     |████████████████████████████████| 170 kB 65.0 MB/s \n",
            "\u001b[?25hCollecting prometheus-flask-exporter\n",
            "  Downloading prometheus_flask_exporter-0.18.2.tar.gz (22 kB)\n",
            "Requirement already satisfied: entrypoints in /usr/local/lib/python3.7/dist-packages (from mlflow->pycaret) (0.3)\n",
            "Requirement already satisfied: Flask in /usr/local/lib/python3.7/dist-packages (from mlflow->pycaret) (1.1.4)\n",
            "Collecting gunicorn\n",
            "  Downloading gunicorn-20.1.0-py3-none-any.whl (79 kB)\n",
            "\u001b[K     |████████████████████████████████| 79 kB 8.1 MB/s \n",
            "\u001b[?25hRequirement already satisfied: click>=7.0 in /usr/local/lib/python3.7/dist-packages (from mlflow->pycaret) (7.1.2)\n",
            "Collecting databricks-cli>=0.8.7\n",
            "  Downloading databricks-cli-0.14.3.tar.gz (54 kB)\n",
            "\u001b[K     |████████████████████████████████| 54 kB 3.5 MB/s \n",
            "\u001b[?25hRequirement already satisfied: sqlalchemy in /usr/local/lib/python3.7/dist-packages (from mlflow->pycaret) (1.4.20)\n",
            "Requirement already satisfied: cloudpickle in /usr/local/lib/python3.7/dist-packages (from mlflow->pycaret) (1.3.0)\n",
            "Requirement already satisfied: sqlparse>=0.3.1 in /usr/local/lib/python3.7/dist-packages (from mlflow->pycaret) (0.4.1)\n",
            "Collecting docker>=4.0.0\n",
            "  Downloading docker-5.0.0-py2.py3-none-any.whl (146 kB)\n",
            "\u001b[K     |████████████████████████████████| 146 kB 75.8 MB/s \n",
            "\u001b[?25hCollecting querystring-parser\n",
            "  Downloading querystring_parser-1.2.4-py2.py3-none-any.whl (7.9 kB)\n",
            "Collecting Mako\n",
            "  Downloading Mako-1.1.4-py2.py3-none-any.whl (75 kB)\n",
            "\u001b[K     |████████████████████████████████| 75 kB 5.0 MB/s \n",
            "\u001b[?25hCollecting python-editor>=0.3\n",
            "  Downloading python_editor-1.0.4-py3-none-any.whl (4.9 kB)\n",
            "Requirement already satisfied: tabulate>=0.7.7 in /usr/local/lib/python3.7/dist-packages (from databricks-cli>=0.8.7->mlflow->pycaret) (0.8.9)\n",
            "Collecting websocket-client>=0.32.0\n",
            "  Downloading websocket_client-1.1.0-py2.py3-none-any.whl (68 kB)\n",
            "\u001b[K     |████████████████████████████████| 68 kB 7.9 MB/s \n",
            "\u001b[?25hCollecting gitdb<5,>=4.0.1\n",
            "  Downloading gitdb-4.0.7-py3-none-any.whl (63 kB)\n",
            "\u001b[K     |████████████████████████████████| 63 kB 1.7 MB/s \n",
            "\u001b[?25hCollecting smmap<5,>=3.0.1\n",
            "  Downloading smmap-4.0.0-py2.py3-none-any.whl (24 kB)\n",
            "Requirement already satisfied: greenlet!=0.4.17 in /usr/local/lib/python3.7/dist-packages (from sqlalchemy->mlflow->pycaret) (1.1.0)\n",
            "Requirement already satisfied: itsdangerous<2.0,>=0.24 in /usr/local/lib/python3.7/dist-packages (from Flask->mlflow->pycaret) (1.1.0)\n",
            "Requirement already satisfied: Werkzeug<2.0,>=0.15 in /usr/local/lib/python3.7/dist-packages (from Flask->mlflow->pycaret) (1.0.1)\n",
            "Requirement already satisfied: bleach in /usr/local/lib/python3.7/dist-packages (from nbconvert->notebook>=4.4.1->widgetsnbextension~=3.5.0->ipywidgets->pycaret) (3.3.0)\n",
            "Requirement already satisfied: pandocfilters>=1.4.1 in /usr/local/lib/python3.7/dist-packages (from nbconvert->notebook>=4.4.1->widgetsnbextension~=3.5.0->ipywidgets->pycaret) (1.4.3)\n",
            "Requirement already satisfied: testpath in /usr/local/lib/python3.7/dist-packages (from nbconvert->notebook>=4.4.1->widgetsnbextension~=3.5.0->ipywidgets->pycaret) (0.5.0)\n",
            "Requirement already satisfied: defusedxml in /usr/local/lib/python3.7/dist-packages (from nbconvert->notebook>=4.4.1->widgetsnbextension~=3.5.0->ipywidgets->pycaret) (0.7.1)\n",
            "Requirement already satisfied: mistune<2,>=0.8.1 in /usr/local/lib/python3.7/dist-packages (from nbconvert->notebook>=4.4.1->widgetsnbextension~=3.5.0->ipywidgets->pycaret) (0.8.4)\n",
            "Requirement already satisfied: webencodings in /usr/local/lib/python3.7/dist-packages (from bleach->nbconvert->notebook>=4.4.1->widgetsnbextension~=3.5.0->ipywidgets->pycaret) (0.5.1)\n",
            "Requirement already satisfied: prometheus_client in /usr/local/lib/python3.7/dist-packages (from prometheus-flask-exporter->mlflow->pycaret) (0.11.0)\n",
            "Collecting pyLDAvis\n",
            "  Downloading pyLDAvis-3.3.0.tar.gz (1.7 MB)\n",
            "\u001b[K     |████████████████████████████████| 1.7 MB 29.2 MB/s \n",
            "\u001b[?25h  Installing build dependencies ... \u001b[?25l\u001b[?25hdone\n",
            "  Getting requirements to build wheel ... \u001b[?25l\u001b[?25hdone\n",
            "  Installing backend dependencies ... \u001b[?25l\u001b[?25hdone\n",
            "    Preparing wheel metadata ... \u001b[?25l\u001b[?25hdone\n",
            "  Downloading pyLDAvis-3.2.2.tar.gz (1.7 MB)\n",
            "\u001b[K     |████████████████████████████████| 1.7 MB 36.4 MB/s \n",
            "\u001b[?25hRequirement already satisfied: numexpr in /usr/local/lib/python3.7/dist-packages (from pyLDAvis->pycaret) (2.7.3)\n",
            "Requirement already satisfied: future in /usr/local/lib/python3.7/dist-packages (from pyLDAvis->pycaret) (0.16.0)\n",
            "Collecting funcy\n",
            "  Downloading funcy-1.16-py2.py3-none-any.whl (32 kB)\n",
            "Requirement already satisfied: numba>=0.35 in /usr/local/lib/python3.7/dist-packages (from pyod->pycaret) (0.51.2)\n",
            "Requirement already satisfied: statsmodels in /usr/local/lib/python3.7/dist-packages (from pyod->pycaret) (0.10.2)\n",
            "Requirement already satisfied: llvmlite<0.35,>=0.34.0.dev0 in /usr/local/lib/python3.7/dist-packages (from numba>=0.35->pyod->pycaret) (0.34.0)\n",
            "Requirement already satisfied: patsy>=0.4.0 in /usr/local/lib/python3.7/dist-packages (from statsmodels->pyod->pycaret) (0.5.1)\n",
            "Collecting pynndescent>=0.5\n",
            "  Downloading pynndescent-0.5.4.tar.gz (1.1 MB)\n",
            "\u001b[K     |████████████████████████████████| 1.1 MB 37.1 MB/s \n",
            "\u001b[?25hBuilding wheels for collected packages: htmlmin, phik, imagehash, alembic, databricks-cli, prometheus-flask-exporter, pyLDAvis, pyod, umap-learn, pynndescent\n",
            "  Building wheel for htmlmin (setup.py) ... \u001b[?25l\u001b[?25hdone\n",
            "  Created wheel for htmlmin: filename=htmlmin-0.1.12-py3-none-any.whl size=27098 sha256=f9428254fdda92f3a30e05071c43a3c8b01b3a260a1a250f52bc30699a873080\n",
            "  Stored in directory: /root/.cache/pip/wheels/70/e1/52/5b14d250ba868768823940c3229e9950d201a26d0bd3ee8655\n",
            "  Building wheel for phik (setup.py) ... \u001b[?25l\u001b[?25hdone\n",
            "  Created wheel for phik: filename=phik-0.11.2-py3-none-any.whl size=1107437 sha256=c32b2b0dff76f0ca3379e7d71269b0fdf085c8029135922a2eb546de0e29cb63\n",
            "  Stored in directory: /root/.cache/pip/wheels/40/98/a3/b654f24edcdcdb87d1f70d65a506fcfdf15289db129c594bcd\n",
            "  Building wheel for imagehash (setup.py) ... \u001b[?25l\u001b[?25hdone\n",
            "  Created wheel for imagehash: filename=ImageHash-4.2.1-py2.py3-none-any.whl size=295206 sha256=769d22706788af57e4cd980d35b376e84b01c4a39a637b2df6aca698bec0a4ce\n",
            "  Stored in directory: /root/.cache/pip/wheels/4c/d5/59/5e3e297533ddb09407769762985d134135064c6831e29a914e\n",
            "  Building wheel for alembic (setup.py) ... \u001b[?25l\u001b[?25hdone\n",
            "  Created wheel for alembic: filename=alembic-1.4.1-py2.py3-none-any.whl size=158170 sha256=c6ca6d4d3f395638cc4a868f2eee86de2b1fbba2f6d40f9a2d40ccd29777b980\n",
            "  Stored in directory: /root/.cache/pip/wheels/be/5d/0a/9e13f53f4f5dfb67cd8d245bb7cdffe12f135846f491a283e3\n",
            "  Building wheel for databricks-cli (setup.py) ... \u001b[?25l\u001b[?25hdone\n",
            "  Created wheel for databricks-cli: filename=databricks_cli-0.14.3-py3-none-any.whl size=100557 sha256=6b3e63a4020284eb88ed2857bcfcfeebed4e3f88d5c0bfa62898e146697be3bb\n",
            "  Stored in directory: /root/.cache/pip/wheels/3b/60/14/6930445b08959fbdf4e3029bac7e1f2cccb2e94df8afa00b29\n",
            "  Building wheel for prometheus-flask-exporter (setup.py) ... \u001b[?25l\u001b[?25hdone\n",
            "  Created wheel for prometheus-flask-exporter: filename=prometheus_flask_exporter-0.18.2-py3-none-any.whl size=17416 sha256=bcbb5aed4eae5875f621659bfb89a87f1a764ed8a75f2a9921dd8d61a5367efc\n",
            "  Stored in directory: /root/.cache/pip/wheels/6a/1e/1c/c765920cb92b2f0343d2dd8b481a407cee2823f9b4bbd2e52a\n",
            "  Building wheel for pyLDAvis (setup.py) ... \u001b[?25l\u001b[?25hdone\n",
            "  Created wheel for pyLDAvis: filename=pyLDAvis-3.2.2-py2.py3-none-any.whl size=135618 sha256=9b05aff0c42e7e02d47863fd848eabd3195ac71b698771bbc309d919691f36a6\n",
            "  Stored in directory: /root/.cache/pip/wheels/f8/b1/9b/560ac1931796b7303f7b517b949d2d31a4fbc512aad3b9f284\n",
            "  Building wheel for pyod (setup.py) ... \u001b[?25l\u001b[?25hdone\n",
            "  Created wheel for pyod: filename=pyod-0.9.0-py3-none-any.whl size=122560 sha256=b5859d22244be03e06be8d80903010ae73fc16197c57cb09d31e7b89cfccd7de\n",
            "  Stored in directory: /root/.cache/pip/wheels/42/5f/59/5984a6116a4d19aee28d8ebeffd431364ce1cf21eb73a6ad34\n",
            "  Building wheel for umap-learn (setup.py) ... \u001b[?25l\u001b[?25hdone\n",
            "  Created wheel for umap-learn: filename=umap_learn-0.5.1-py3-none-any.whl size=76566 sha256=205d09d0d8c77fd7789c5e8d26d9645f98918a4df0e001d4f888b9f6e25d91b1\n",
            "  Stored in directory: /root/.cache/pip/wheels/01/e7/bb/347dc0e510803d7116a13d592b10cc68262da56a8eec4dd72f\n",
            "  Building wheel for pynndescent (setup.py) ... \u001b[?25l\u001b[?25hdone\n",
            "  Created wheel for pynndescent: filename=pynndescent-0.5.4-py3-none-any.whl size=52372 sha256=e43e0a41b7926589b57372aa64ff3e2d1081a62580f54bd7f88a5725be638306\n",
            "  Stored in directory: /root/.cache/pip/wheels/d0/5b/62/3401692ddad12324249c774c4b15ccb046946021e2b581c043\n",
            "Successfully built htmlmin phik imagehash alembic databricks-cli prometheus-flask-exporter pyLDAvis pyod umap-learn pynndescent\n",
            "Installing collected packages: threadpoolctl, tangled-up-in-unicode, smmap, scipy, multimethod, websocket-client, visions, tqdm, scikit-learn, requests, python-editor, Mako, imagehash, gitdb, querystring-parser, PyYAML, pynndescent, pydantic, prometheus-flask-exporter, phik, htmlmin, gunicorn, gitpython, funcy, docker, databricks-cli, alembic, yellowbrick, umap-learn, scikit-plot, pyod, pyLDAvis, pandas-profiling, mlxtend, mlflow, lightgbm, kmodes, imbalanced-learn, Boruta, pycaret\n",
            "  Attempting uninstall: scipy\n",
            "    Found existing installation: scipy 1.4.1\n",
            "    Uninstalling scipy-1.4.1:\n",
            "      Successfully uninstalled scipy-1.4.1\n",
            "  Attempting uninstall: tqdm\n",
            "    Found existing installation: tqdm 4.41.1\n",
            "    Uninstalling tqdm-4.41.1:\n",
            "      Successfully uninstalled tqdm-4.41.1\n",
            "  Attempting uninstall: scikit-learn\n",
            "    Found existing installation: scikit-learn 0.22.2.post1\n",
            "    Uninstalling scikit-learn-0.22.2.post1:\n",
            "      Successfully uninstalled scikit-learn-0.22.2.post1\n",
            "  Attempting uninstall: requests\n",
            "    Found existing installation: requests 2.23.0\n",
            "    Uninstalling requests-2.23.0:\n",
            "      Successfully uninstalled requests-2.23.0\n",
            "  Attempting uninstall: PyYAML\n",
            "    Found existing installation: PyYAML 3.13\n",
            "    Uninstalling PyYAML-3.13:\n",
            "      Successfully uninstalled PyYAML-3.13\n",
            "  Attempting uninstall: yellowbrick\n",
            "    Found existing installation: yellowbrick 0.9.1\n",
            "    Uninstalling yellowbrick-0.9.1:\n",
            "      Successfully uninstalled yellowbrick-0.9.1\n",
            "  Attempting uninstall: pandas-profiling\n",
            "    Found existing installation: pandas-profiling 1.4.1\n",
            "    Uninstalling pandas-profiling-1.4.1:\n",
            "      Successfully uninstalled pandas-profiling-1.4.1\n",
            "  Attempting uninstall: mlxtend\n",
            "    Found existing installation: mlxtend 0.14.0\n",
            "    Uninstalling mlxtend-0.14.0:\n",
            "      Successfully uninstalled mlxtend-0.14.0\n",
            "  Attempting uninstall: lightgbm\n",
            "    Found existing installation: lightgbm 2.2.3\n",
            "    Uninstalling lightgbm-2.2.3:\n",
            "      Successfully uninstalled lightgbm-2.2.3\n",
            "  Attempting uninstall: imbalanced-learn\n",
            "    Found existing installation: imbalanced-learn 0.4.3\n",
            "    Uninstalling imbalanced-learn-0.4.3:\n",
            "      Successfully uninstalled imbalanced-learn-0.4.3\n",
            "\u001b[31mERROR: pip's dependency resolver does not currently take into account all the packages that are installed. This behaviour is the source of the following dependency conflicts.\n",
            "google-colab 1.0.0 requires requests~=2.23.0, but you have requests 2.26.0 which is incompatible.\n",
            "datascience 0.10.6 requires folium==0.2.1, but you have folium 0.8.3 which is incompatible.\n",
            "albumentations 0.1.12 requires imgaug<0.2.7,>=0.2.5, but you have imgaug 0.2.9 which is incompatible.\u001b[0m\n",
            "Successfully installed Boruta-0.3 Mako-1.1.4 PyYAML-5.4.1 alembic-1.4.1 databricks-cli-0.14.3 docker-5.0.0 funcy-1.16 gitdb-4.0.7 gitpython-3.1.18 gunicorn-20.1.0 htmlmin-0.1.12 imagehash-4.2.1 imbalanced-learn-0.7.0 kmodes-0.11.0 lightgbm-3.2.1 mlflow-1.19.0 mlxtend-0.18.0 multimethod-1.4 pandas-profiling-3.0.0 phik-0.11.2 prometheus-flask-exporter-0.18.2 pyLDAvis-3.2.2 pycaret-2.3.2 pydantic-1.8.2 pynndescent-0.5.4 pyod-0.9.0 python-editor-1.0.4 querystring-parser-1.2.4 requests-2.26.0 scikit-learn-0.23.2 scikit-plot-0.3.7 scipy-1.5.4 smmap-4.0.0 tangled-up-in-unicode-0.1.0 threadpoolctl-2.2.0 tqdm-4.61.2 umap-learn-0.5.1 visions-0.7.1 websocket-client-1.1.0 yellowbrick-1.3.post1\n"
          ],
          "name": "stdout"
        },
        {
          "output_type": "display_data",
          "data": {
            "application/vnd.colab-display-data+json": {
              "pip_warning": {
                "packages": [
                  "scipy",
                  "sklearn"
                ]
              }
            }
          },
          "metadata": {
            "tags": []
          }
        }
      ]
    },
    {
      "cell_type": "code",
      "metadata": {
        "id": "NorNjICAzelw"
      },
      "source": [
        "# loading pycaret package for automl\n",
        "from pycaret.regression import * "
      ],
      "execution_count": null,
      "outputs": []
    },
    {
      "cell_type": "code",
      "metadata": {
        "id": "-KqW0iGdh393"
      },
      "source": [
        "#list of columns that are categorical\n",
        "cat_var = ['ProductType','Manufacturer','Area Code','Sourcing Channel','Product Size','Product Type','month_no']"
      ],
      "execution_count": null,
      "outputs": []
    },
    {
      "cell_type": "code",
      "metadata": {
        "colab": {
          "base_uri": "https://localhost:8080/",
          "height": 1000,
          "referenced_widgets": [
            "87711b6576094cd5900d9e63dfeee394",
            "0eb9a29ec2a14a8582a4499e800f172f",
            "ad5907ed88204563875d44093993e048",
            "55046a7bade440b9a9d0d71e698f8532",
            "ac24afa1d8a844beb6ae4c90118e5dd4",
            "1bf8d13f76954baf905464c9feb7fae1"
          ]
        },
        "id": "dcXIJ9FGJRsq",
        "outputId": "12c9f2c1-81da-4970-87d2-ecbf450d01b3"
      },
      "source": [
        "# setting up auto ml enviroment \n",
        "exp_reg101 = setup(data = df2, target = 'Sourcing Cost',ignore_features= ['Month of Sourcing'],\n",
        "                   normalize = True,session_id = 123)"
      ],
      "execution_count": null,
      "outputs": [
        {
          "output_type": "display_data",
          "data": {
            "text/html": [
              "<div>\n",
              "<style scoped>\n",
              "    .dataframe tbody tr th:only-of-type {\n",
              "        vertical-align: middle;\n",
              "    }\n",
              "\n",
              "    .dataframe tbody tr th {\n",
              "        vertical-align: top;\n",
              "    }\n",
              "\n",
              "    .dataframe thead th {\n",
              "        text-align: right;\n",
              "    }\n",
              "</style>\n",
              "<table border=\"1\" class=\"dataframe\">\n",
              "  <thead>\n",
              "    <tr style=\"text-align: right;\">\n",
              "      <th></th>\n",
              "      <th>Description</th>\n",
              "      <th>Value</th>\n",
              "    </tr>\n",
              "  </thead>\n",
              "  <tbody>\n",
              "    <tr>\n",
              "      <th>0</th>\n",
              "      <td>session_id</td>\n",
              "      <td>123</td>\n",
              "    </tr>\n",
              "    <tr>\n",
              "      <th>1</th>\n",
              "      <td>Target</td>\n",
              "      <td>Sourcing Cost</td>\n",
              "    </tr>\n",
              "    <tr>\n",
              "      <th>2</th>\n",
              "      <td>Original Data</td>\n",
              "      <td>(550176, 10)</td>\n",
              "    </tr>\n",
              "    <tr>\n",
              "      <th>3</th>\n",
              "      <td>Missing Values</td>\n",
              "      <td>False</td>\n",
              "    </tr>\n",
              "    <tr>\n",
              "      <th>4</th>\n",
              "      <td>Numeric Features</td>\n",
              "      <td>1</td>\n",
              "    </tr>\n",
              "    <tr>\n",
              "      <th>5</th>\n",
              "      <td>Categorical Features</td>\n",
              "      <td>7</td>\n",
              "    </tr>\n",
              "    <tr>\n",
              "      <th>6</th>\n",
              "      <td>Ordinal Features</td>\n",
              "      <td>False</td>\n",
              "    </tr>\n",
              "    <tr>\n",
              "      <th>7</th>\n",
              "      <td>High Cardinality Features</td>\n",
              "      <td>False</td>\n",
              "    </tr>\n",
              "    <tr>\n",
              "      <th>8</th>\n",
              "      <td>High Cardinality Method</td>\n",
              "      <td>None</td>\n",
              "    </tr>\n",
              "    <tr>\n",
              "      <th>9</th>\n",
              "      <td>Transformed Train Set</td>\n",
              "      <td>(385123, 27)</td>\n",
              "    </tr>\n",
              "    <tr>\n",
              "      <th>10</th>\n",
              "      <td>Transformed Test Set</td>\n",
              "      <td>(165053, 27)</td>\n",
              "    </tr>\n",
              "    <tr>\n",
              "      <th>11</th>\n",
              "      <td>Shuffle Train-Test</td>\n",
              "      <td>True</td>\n",
              "    </tr>\n",
              "    <tr>\n",
              "      <th>12</th>\n",
              "      <td>Stratify Train-Test</td>\n",
              "      <td>False</td>\n",
              "    </tr>\n",
              "    <tr>\n",
              "      <th>13</th>\n",
              "      <td>Fold Generator</td>\n",
              "      <td>KFold</td>\n",
              "    </tr>\n",
              "    <tr>\n",
              "      <th>14</th>\n",
              "      <td>Fold Number</td>\n",
              "      <td>10</td>\n",
              "    </tr>\n",
              "    <tr>\n",
              "      <th>15</th>\n",
              "      <td>CPU Jobs</td>\n",
              "      <td>-1</td>\n",
              "    </tr>\n",
              "    <tr>\n",
              "      <th>16</th>\n",
              "      <td>Use GPU</td>\n",
              "      <td>False</td>\n",
              "    </tr>\n",
              "    <tr>\n",
              "      <th>17</th>\n",
              "      <td>Log Experiment</td>\n",
              "      <td>False</td>\n",
              "    </tr>\n",
              "    <tr>\n",
              "      <th>18</th>\n",
              "      <td>Experiment Name</td>\n",
              "      <td>reg-default-name</td>\n",
              "    </tr>\n",
              "    <tr>\n",
              "      <th>19</th>\n",
              "      <td>USI</td>\n",
              "      <td>c96d</td>\n",
              "    </tr>\n",
              "    <tr>\n",
              "      <th>20</th>\n",
              "      <td>Imputation Type</td>\n",
              "      <td>simple</td>\n",
              "    </tr>\n",
              "    <tr>\n",
              "      <th>21</th>\n",
              "      <td>Iterative Imputation Iteration</td>\n",
              "      <td>None</td>\n",
              "    </tr>\n",
              "    <tr>\n",
              "      <th>22</th>\n",
              "      <td>Numeric Imputer</td>\n",
              "      <td>mean</td>\n",
              "    </tr>\n",
              "    <tr>\n",
              "      <th>23</th>\n",
              "      <td>Iterative Imputation Numeric Model</td>\n",
              "      <td>None</td>\n",
              "    </tr>\n",
              "    <tr>\n",
              "      <th>24</th>\n",
              "      <td>Categorical Imputer</td>\n",
              "      <td>constant</td>\n",
              "    </tr>\n",
              "    <tr>\n",
              "      <th>25</th>\n",
              "      <td>Iterative Imputation Categorical Model</td>\n",
              "      <td>None</td>\n",
              "    </tr>\n",
              "    <tr>\n",
              "      <th>26</th>\n",
              "      <td>Unknown Categoricals Handling</td>\n",
              "      <td>least_frequent</td>\n",
              "    </tr>\n",
              "    <tr>\n",
              "      <th>27</th>\n",
              "      <td>Normalize</td>\n",
              "      <td>True</td>\n",
              "    </tr>\n",
              "    <tr>\n",
              "      <th>28</th>\n",
              "      <td>Normalize Method</td>\n",
              "      <td>zscore</td>\n",
              "    </tr>\n",
              "    <tr>\n",
              "      <th>29</th>\n",
              "      <td>Transformation</td>\n",
              "      <td>False</td>\n",
              "    </tr>\n",
              "    <tr>\n",
              "      <th>30</th>\n",
              "      <td>Transformation Method</td>\n",
              "      <td>None</td>\n",
              "    </tr>\n",
              "    <tr>\n",
              "      <th>31</th>\n",
              "      <td>PCA</td>\n",
              "      <td>False</td>\n",
              "    </tr>\n",
              "    <tr>\n",
              "      <th>32</th>\n",
              "      <td>PCA Method</td>\n",
              "      <td>None</td>\n",
              "    </tr>\n",
              "    <tr>\n",
              "      <th>33</th>\n",
              "      <td>PCA Components</td>\n",
              "      <td>None</td>\n",
              "    </tr>\n",
              "    <tr>\n",
              "      <th>34</th>\n",
              "      <td>Ignore Low Variance</td>\n",
              "      <td>False</td>\n",
              "    </tr>\n",
              "    <tr>\n",
              "      <th>35</th>\n",
              "      <td>Combine Rare Levels</td>\n",
              "      <td>False</td>\n",
              "    </tr>\n",
              "    <tr>\n",
              "      <th>36</th>\n",
              "      <td>Rare Level Threshold</td>\n",
              "      <td>None</td>\n",
              "    </tr>\n",
              "    <tr>\n",
              "      <th>37</th>\n",
              "      <td>Numeric Binning</td>\n",
              "      <td>False</td>\n",
              "    </tr>\n",
              "    <tr>\n",
              "      <th>38</th>\n",
              "      <td>Remove Outliers</td>\n",
              "      <td>False</td>\n",
              "    </tr>\n",
              "    <tr>\n",
              "      <th>39</th>\n",
              "      <td>Outliers Threshold</td>\n",
              "      <td>None</td>\n",
              "    </tr>\n",
              "    <tr>\n",
              "      <th>40</th>\n",
              "      <td>Remove Multicollinearity</td>\n",
              "      <td>False</td>\n",
              "    </tr>\n",
              "    <tr>\n",
              "      <th>41</th>\n",
              "      <td>Multicollinearity Threshold</td>\n",
              "      <td>None</td>\n",
              "    </tr>\n",
              "    <tr>\n",
              "      <th>42</th>\n",
              "      <td>Remove Perfect Collinearity</td>\n",
              "      <td>True</td>\n",
              "    </tr>\n",
              "    <tr>\n",
              "      <th>43</th>\n",
              "      <td>Clustering</td>\n",
              "      <td>False</td>\n",
              "    </tr>\n",
              "    <tr>\n",
              "      <th>44</th>\n",
              "      <td>Clustering Iteration</td>\n",
              "      <td>None</td>\n",
              "    </tr>\n",
              "    <tr>\n",
              "      <th>45</th>\n",
              "      <td>Polynomial Features</td>\n",
              "      <td>False</td>\n",
              "    </tr>\n",
              "    <tr>\n",
              "      <th>46</th>\n",
              "      <td>Polynomial Degree</td>\n",
              "      <td>None</td>\n",
              "    </tr>\n",
              "    <tr>\n",
              "      <th>47</th>\n",
              "      <td>Trignometry Features</td>\n",
              "      <td>False</td>\n",
              "    </tr>\n",
              "    <tr>\n",
              "      <th>48</th>\n",
              "      <td>Polynomial Threshold</td>\n",
              "      <td>None</td>\n",
              "    </tr>\n",
              "    <tr>\n",
              "      <th>49</th>\n",
              "      <td>Group Features</td>\n",
              "      <td>False</td>\n",
              "    </tr>\n",
              "    <tr>\n",
              "      <th>50</th>\n",
              "      <td>Feature Selection</td>\n",
              "      <td>False</td>\n",
              "    </tr>\n",
              "    <tr>\n",
              "      <th>51</th>\n",
              "      <td>Feature Selection Method</td>\n",
              "      <td>classic</td>\n",
              "    </tr>\n",
              "    <tr>\n",
              "      <th>52</th>\n",
              "      <td>Features Selection Threshold</td>\n",
              "      <td>None</td>\n",
              "    </tr>\n",
              "    <tr>\n",
              "      <th>53</th>\n",
              "      <td>Feature Interaction</td>\n",
              "      <td>False</td>\n",
              "    </tr>\n",
              "    <tr>\n",
              "      <th>54</th>\n",
              "      <td>Feature Ratio</td>\n",
              "      <td>False</td>\n",
              "    </tr>\n",
              "    <tr>\n",
              "      <th>55</th>\n",
              "      <td>Interaction Threshold</td>\n",
              "      <td>None</td>\n",
              "    </tr>\n",
              "    <tr>\n",
              "      <th>56</th>\n",
              "      <td>Transform Target</td>\n",
              "      <td>False</td>\n",
              "    </tr>\n",
              "    <tr>\n",
              "      <th>57</th>\n",
              "      <td>Transform Target Method</td>\n",
              "      <td>box-cox</td>\n",
              "    </tr>\n",
              "  </tbody>\n",
              "</table>\n",
              "</div>"
            ],
            "text/plain": [
              "                               Description             Value\n",
              "0                               session_id               123\n",
              "1                                   Target     Sourcing Cost\n",
              "2                            Original Data      (550176, 10)\n",
              "3                           Missing Values             False\n",
              "4                         Numeric Features                 1\n",
              "5                     Categorical Features                 7\n",
              "6                         Ordinal Features             False\n",
              "7                High Cardinality Features             False\n",
              "8                  High Cardinality Method              None\n",
              "9                    Transformed Train Set      (385123, 27)\n",
              "10                    Transformed Test Set      (165053, 27)\n",
              "11                      Shuffle Train-Test              True\n",
              "12                     Stratify Train-Test             False\n",
              "13                          Fold Generator             KFold\n",
              "14                             Fold Number                10\n",
              "15                                CPU Jobs                -1\n",
              "16                                 Use GPU             False\n",
              "17                          Log Experiment             False\n",
              "18                         Experiment Name  reg-default-name\n",
              "19                                     USI              c96d\n",
              "20                         Imputation Type            simple\n",
              "21          Iterative Imputation Iteration              None\n",
              "22                         Numeric Imputer              mean\n",
              "23      Iterative Imputation Numeric Model              None\n",
              "24                     Categorical Imputer          constant\n",
              "25  Iterative Imputation Categorical Model              None\n",
              "26           Unknown Categoricals Handling    least_frequent\n",
              "27                               Normalize              True\n",
              "28                        Normalize Method            zscore\n",
              "29                          Transformation             False\n",
              "30                   Transformation Method              None\n",
              "31                                     PCA             False\n",
              "32                              PCA Method              None\n",
              "33                          PCA Components              None\n",
              "34                     Ignore Low Variance             False\n",
              "35                     Combine Rare Levels             False\n",
              "36                    Rare Level Threshold              None\n",
              "37                         Numeric Binning             False\n",
              "38                         Remove Outliers             False\n",
              "39                      Outliers Threshold              None\n",
              "40                Remove Multicollinearity             False\n",
              "41             Multicollinearity Threshold              None\n",
              "42             Remove Perfect Collinearity              True\n",
              "43                              Clustering             False\n",
              "44                    Clustering Iteration              None\n",
              "45                     Polynomial Features             False\n",
              "46                       Polynomial Degree              None\n",
              "47                    Trignometry Features             False\n",
              "48                    Polynomial Threshold              None\n",
              "49                          Group Features             False\n",
              "50                       Feature Selection             False\n",
              "51                Feature Selection Method           classic\n",
              "52            Features Selection Threshold              None\n",
              "53                     Feature Interaction             False\n",
              "54                           Feature Ratio             False\n",
              "55                   Interaction Threshold              None\n",
              "56                        Transform Target             False\n",
              "57                 Transform Target Method           box-cox"
            ]
          },
          "metadata": {
            "tags": []
          }
        }
      ]
    },
    {
      "cell_type": "code",
      "metadata": {
        "colab": {
          "base_uri": "https://localhost:8080/",
          "height": 482,
          "referenced_widgets": [
            "545f02c0f3cd4922849723355dd74364",
            "c12a2010f1404490ba918bf21b6ce56f",
            "566827b8b7444d86b70c5323cdab3704"
          ]
        },
        "id": "1V3fLhk5JRya",
        "outputId": "0b8b37df-ff33-4dd4-c31f-d440b9c59eb3"
      },
      "source": [
        "# all the models that are available are \n",
        "best = compare_models(exclude = ['ransac'])"
      ],
      "execution_count": null,
      "outputs": [
        {
          "output_type": "display_data",
          "data": {
            "application/vnd.jupyter.widget-view+json": {
              "model_id": "545f02c0f3cd4922849723355dd74364",
              "version_minor": 0,
              "version_major": 2
            },
            "text/plain": [
              "IntProgress(value=0, description='Processing: ', max=84)"
            ]
          },
          "metadata": {
            "tags": []
          }
        },
        {
          "output_type": "display_data",
          "data": {
            "text/html": [
              "<div>\n",
              "<style scoped>\n",
              "    .dataframe tbody tr th:only-of-type {\n",
              "        vertical-align: middle;\n",
              "    }\n",
              "\n",
              "    .dataframe tbody tr th {\n",
              "        vertical-align: top;\n",
              "    }\n",
              "\n",
              "    .dataframe thead th {\n",
              "        text-align: right;\n",
              "    }\n",
              "</style>\n",
              "<table border=\"1\" class=\"dataframe\">\n",
              "  <thead>\n",
              "    <tr style=\"text-align: right;\">\n",
              "      <th></th>\n",
              "      <th></th>\n",
              "      <th></th>\n",
              "    </tr>\n",
              "    <tr>\n",
              "      <th></th>\n",
              "      <th></th>\n",
              "      <th></th>\n",
              "    </tr>\n",
              "  </thead>\n",
              "  <tbody>\n",
              "    <tr>\n",
              "      <th>Initiated</th>\n",
              "      <td>. . . . . . . . . . . . . . . . . .</td>\n",
              "      <td>05:10:39</td>\n",
              "    </tr>\n",
              "    <tr>\n",
              "      <th>Status</th>\n",
              "      <td>. . . . . . . . . . . . . . . . . .</td>\n",
              "      <td>Fitting 10 Folds</td>\n",
              "    </tr>\n",
              "    <tr>\n",
              "      <th>Estimator</th>\n",
              "      <td>. . . . . . . . . . . . . . . . . .</td>\n",
              "      <td>K Neighbors Regressor</td>\n",
              "    </tr>\n",
              "  </tbody>\n",
              "</table>\n",
              "</div>"
            ],
            "text/plain": [
              "                                                                     \n",
              "                                                                     \n",
              "Initiated  . . . . . . . . . . . . . . . . . .               05:10:39\n",
              "Status     . . . . . . . . . . . . . . . . . .       Fitting 10 Folds\n",
              "Estimator  . . . . . . . . . . . . . . . . . .  K Neighbors Regressor"
            ]
          },
          "metadata": {
            "tags": []
          }
        },
        {
          "output_type": "display_data",
          "data": {
            "text/html": [
              "<div>\n",
              "<style scoped>\n",
              "    .dataframe tbody tr th:only-of-type {\n",
              "        vertical-align: middle;\n",
              "    }\n",
              "\n",
              "    .dataframe tbody tr th {\n",
              "        vertical-align: top;\n",
              "    }\n",
              "\n",
              "    .dataframe thead th {\n",
              "        text-align: right;\n",
              "    }\n",
              "</style>\n",
              "<table border=\"1\" class=\"dataframe\">\n",
              "  <thead>\n",
              "    <tr style=\"text-align: right;\">\n",
              "      <th></th>\n",
              "      <th>Model</th>\n",
              "      <th>MAE</th>\n",
              "      <th>MSE</th>\n",
              "      <th>RMSE</th>\n",
              "      <th>R2</th>\n",
              "      <th>RMSLE</th>\n",
              "      <th>MAPE</th>\n",
              "      <th>TT (Sec)</th>\n",
              "    </tr>\n",
              "  </thead>\n",
              "  <tbody>\n",
              "    <tr>\n",
              "      <th>lr</th>\n",
              "      <td>Linear Regression</td>\n",
              "      <td>34.4296</td>\n",
              "      <td>5712.6041</td>\n",
              "      <td>74.3148</td>\n",
              "      <td>0.2035</td>\n",
              "      <td>1.0174</td>\n",
              "      <td>3.1279</td>\n",
              "      <td>0.484</td>\n",
              "    </tr>\n",
              "    <tr>\n",
              "      <th>ridge</th>\n",
              "      <td>Ridge Regression</td>\n",
              "      <td>34.3859</td>\n",
              "      <td>5712.3423</td>\n",
              "      <td>74.3129</td>\n",
              "      <td>0.2035</td>\n",
              "      <td>1.0159</td>\n",
              "      <td>3.1220</td>\n",
              "      <td>0.103</td>\n",
              "    </tr>\n",
              "    <tr>\n",
              "      <th>lar</th>\n",
              "      <td>Least Angle Regression</td>\n",
              "      <td>34.3859</td>\n",
              "      <td>5712.3425</td>\n",
              "      <td>74.3129</td>\n",
              "      <td>0.2035</td>\n",
              "      <td>1.0159</td>\n",
              "      <td>3.1219</td>\n",
              "      <td>0.121</td>\n",
              "    </tr>\n",
              "    <tr>\n",
              "      <th>br</th>\n",
              "      <td>Bayesian Ridge</td>\n",
              "      <td>34.3859</td>\n",
              "      <td>5712.3386</td>\n",
              "      <td>74.3129</td>\n",
              "      <td>0.2035</td>\n",
              "      <td>1.0159</td>\n",
              "      <td>3.1224</td>\n",
              "      <td>0.645</td>\n",
              "    </tr>\n",
              "    <tr>\n",
              "      <th>lasso</th>\n",
              "      <td>Lasso Regression</td>\n",
              "      <td>34.9205</td>\n",
              "      <td>5795.4121</td>\n",
              "      <td>74.8734</td>\n",
              "      <td>0.1912</td>\n",
              "      <td>1.0423</td>\n",
              "      <td>3.4282</td>\n",
              "      <td>0.556</td>\n",
              "    </tr>\n",
              "    <tr>\n",
              "      <th>omp</th>\n",
              "      <td>Orthogonal Matching Pursuit</td>\n",
              "      <td>35.4527</td>\n",
              "      <td>5900.0572</td>\n",
              "      <td>75.5929</td>\n",
              "      <td>0.1749</td>\n",
              "      <td>1.0631</td>\n",
              "      <td>3.5051</td>\n",
              "      <td>0.121</td>\n",
              "    </tr>\n",
              "    <tr>\n",
              "      <th>par</th>\n",
              "      <td>Passive Aggressive Regressor</td>\n",
              "      <td>34.1034</td>\n",
              "      <td>6042.1027</td>\n",
              "      <td>76.5232</td>\n",
              "      <td>0.1540</td>\n",
              "      <td>0.9952</td>\n",
              "      <td>2.7764</td>\n",
              "      <td>0.970</td>\n",
              "    </tr>\n",
              "    <tr>\n",
              "      <th>en</th>\n",
              "      <td>Elastic Net</td>\n",
              "      <td>43.1184</td>\n",
              "      <td>6339.4426</td>\n",
              "      <td>78.5274</td>\n",
              "      <td>0.1067</td>\n",
              "      <td>1.1227</td>\n",
              "      <td>4.0364</td>\n",
              "      <td>0.146</td>\n",
              "    </tr>\n",
              "    <tr>\n",
              "      <th>llar</th>\n",
              "      <td>Lasso Least Angle Regression</td>\n",
              "      <td>49.8141</td>\n",
              "      <td>7027.4045</td>\n",
              "      <td>82.8946</td>\n",
              "      <td>-0.0000</td>\n",
              "      <td>1.1759</td>\n",
              "      <td>4.4183</td>\n",
              "      <td>0.122</td>\n",
              "    </tr>\n",
              "  </tbody>\n",
              "</table>\n",
              "</div>"
            ],
            "text/plain": [
              "                              Model      MAE        MSE     RMSE      R2  \\\n",
              "lr                Linear Regression  34.4296  5712.6041  74.3148  0.2035   \n",
              "ridge              Ridge Regression  34.3859  5712.3423  74.3129  0.2035   \n",
              "lar          Least Angle Regression  34.3859  5712.3425  74.3129  0.2035   \n",
              "br                   Bayesian Ridge  34.3859  5712.3386  74.3129  0.2035   \n",
              "lasso              Lasso Regression  34.9205  5795.4121  74.8734  0.1912   \n",
              "omp     Orthogonal Matching Pursuit  35.4527  5900.0572  75.5929  0.1749   \n",
              "par    Passive Aggressive Regressor  34.1034  6042.1027  76.5232  0.1540   \n",
              "en                      Elastic Net  43.1184  6339.4426  78.5274  0.1067   \n",
              "llar   Lasso Least Angle Regression  49.8141  7027.4045  82.8946 -0.0000   \n",
              "\n",
              "        RMSLE    MAPE  TT (Sec)  \n",
              "lr     1.0174  3.1279     0.484  \n",
              "ridge  1.0159  3.1220     0.103  \n",
              "lar    1.0159  3.1219     0.121  \n",
              "br     1.0159  3.1224     0.645  \n",
              "lasso  1.0423  3.4282     0.556  \n",
              "omp    1.0631  3.5051     0.121  \n",
              "par    0.9952  2.7764     0.970  \n",
              "en     1.1227  4.0364     0.146  \n",
              "llar   1.1759  4.4183     0.122  "
            ]
          },
          "metadata": {
            "tags": []
          }
        }
      ]
    },
    {
      "cell_type": "markdown",
      "metadata": {
        "id": "jw6hBj-xq9FA"
      },
      "source": [
        "#**Oultier Treatment and/or anamolies detection** **method**"
      ]
    },
    {
      "cell_type": "markdown",
      "metadata": {
        "id": "vKAoPSNgrFAd"
      },
      "source": [
        "we tried trained and test data set using random forest and using auto ml package the rmse values seems bit high on both data set. it could because of outliers and/or low absolute value in the dataset, and dataset has none numerical variables. let use following method to detect outliers/anamolies data points using isolation forest"
      ]
    },
    {
      "cell_type": "markdown",
      "metadata": {
        "id": "XYlbPe1C_Nh4"
      },
      "source": [
        "# **Outlier** **Detection** "
      ]
    },
    {
      "cell_type": "markdown",
      "metadata": {
        "id": "LxoWfKbf_WDy"
      },
      "source": [
        "#isolation forest"
      ]
    },
    {
      "cell_type": "code",
      "metadata": {
        "id": "e7K8qESzAUuD"
      },
      "source": [
        "# retrieve the array\n",
        "x_data = x.values\n",
        "y_data = y.values"
      ],
      "execution_count": 17,
      "outputs": []
    },
    {
      "cell_type": "code",
      "metadata": {
        "id": "lVZzcQ6y_QQ5"
      },
      "source": [
        "# evaluate model performance with outliers removed using isolation forest\n",
        "from sklearn.ensemble import IsolationForest\n",
        "from sklearn.metrics import mean_absolute_error"
      ],
      "execution_count": 18,
      "outputs": []
    },
    {
      "cell_type": "code",
      "metadata": {
        "id": "-vlvGZx9_QO6"
      },
      "source": [
        "# identify outliers in the training dataset\n",
        "iso = IsolationForest(contamination=0.1)\n",
        "yhat = iso.fit_predict(x_data)"
      ],
      "execution_count": 19,
      "outputs": []
    },
    {
      "cell_type": "code",
      "metadata": {
        "id": "69w9OjWf_QLQ"
      },
      "source": [
        "# select all rows that are not outliers\n",
        "mask = yhat != -1\n",
        "X, Y = x_data[mask, :], y_data[mask]"
      ],
      "execution_count": 20,
      "outputs": []
    },
    {
      "cell_type": "markdown",
      "metadata": {
        "id": "hmI1uuzf_1aS"
      },
      "source": [
        "Random Forest Models"
      ]
    },
    {
      "cell_type": "code",
      "metadata": {
        "colab": {
          "base_uri": "https://localhost:8080/"
        },
        "id": "C_A_LlXU_QIU",
        "outputId": "c2bc248c-0393-42a3-886a-f19ee698dd62"
      },
      "source": [
        "# Fitting Random Forest Regression to the dataset\n",
        "# import the regressor\n",
        "from sklearn.ensemble import RandomForestRegressor\n",
        "  \n",
        " # create regressor object\n",
        "regressor = RandomForestRegressor(n_estimators = 550, random_state = 5,max_depth=15,max_features='auto',criterion='mse')\n",
        "  \n",
        "# fit the regressor with x and y data\n",
        "regressor.fit(X, Y)  "
      ],
      "execution_count": 31,
      "outputs": [
        {
          "output_type": "execute_result",
          "data": {
            "text/plain": [
              "RandomForestRegressor(bootstrap=True, ccp_alpha=0.0, criterion='mse',\n",
              "                      max_depth=15, max_features='auto', max_leaf_nodes=None,\n",
              "                      max_samples=None, min_impurity_decrease=0.0,\n",
              "                      min_impurity_split=None, min_samples_leaf=1,\n",
              "                      min_samples_split=2, min_weight_fraction_leaf=0.0,\n",
              "                      n_estimators=550, n_jobs=None, oob_score=False,\n",
              "                      random_state=5, verbose=0, warm_start=False)"
            ]
          },
          "metadata": {
            "tags": []
          },
          "execution_count": 31
        }
      ]
    },
    {
      "cell_type": "code",
      "metadata": {
        "id": "9Yc8lK4r_MzR"
      },
      "source": [
        "# forecasting\n",
        "y_pred = regressor.predict(X)  # test the output by changing values"
      ],
      "execution_count": 32,
      "outputs": []
    },
    {
      "cell_type": "code",
      "metadata": {
        "id": "2gLM1rXXCLiC",
        "colab": {
          "base_uri": "https://localhost:8080/",
          "height": 235
        },
        "outputId": "1c40f888-626a-4ab5-8144-35c111ea15a0"
      },
      "source": [
        "#converting to pandas frame\n",
        "y_actuals =pd.DataFrame(Y)\n",
        "# adding column name to the respective columns\n",
        "y_actuals.columns =['sourcingcost']\n",
        "y_forecast=pd.DataFrame(y_pred)\n",
        "data_df1=pd.DataFrame(X)\n",
        "data_df2 = pd.concat([data_df1, y_actuals], axis=1)"
      ],
      "execution_count": 22,
      "outputs": [
        {
          "output_type": "error",
          "ename": "NameError",
          "evalue": "ignored",
          "traceback": [
            "\u001b[0;31m---------------------------------------------------------------------------\u001b[0m",
            "\u001b[0;31mNameError\u001b[0m                                 Traceback (most recent call last)",
            "\u001b[0;32m<ipython-input-22-264bd1ec6971>\u001b[0m in \u001b[0;36m<module>\u001b[0;34m()\u001b[0m\n\u001b[1;32m      3\u001b[0m \u001b[0;31m# adding column name to the respective columns\u001b[0m\u001b[0;34m\u001b[0m\u001b[0;34m\u001b[0m\u001b[0;34m\u001b[0m\u001b[0m\n\u001b[1;32m      4\u001b[0m \u001b[0my_actuals\u001b[0m\u001b[0;34m.\u001b[0m\u001b[0mcolumns\u001b[0m \u001b[0;34m=\u001b[0m\u001b[0;34m[\u001b[0m\u001b[0;34m'sourcingcost'\u001b[0m\u001b[0;34m]\u001b[0m\u001b[0;34m\u001b[0m\u001b[0;34m\u001b[0m\u001b[0m\n\u001b[0;32m----> 5\u001b[0;31m \u001b[0my_forecast\u001b[0m\u001b[0;34m=\u001b[0m\u001b[0mpd\u001b[0m\u001b[0;34m.\u001b[0m\u001b[0mDataFrame\u001b[0m\u001b[0;34m(\u001b[0m\u001b[0my_pred\u001b[0m\u001b[0;34m)\u001b[0m\u001b[0;34m\u001b[0m\u001b[0;34m\u001b[0m\u001b[0m\n\u001b[0m\u001b[1;32m      6\u001b[0m \u001b[0mdata_df1\u001b[0m\u001b[0;34m=\u001b[0m\u001b[0mpd\u001b[0m\u001b[0;34m.\u001b[0m\u001b[0mDataFrame\u001b[0m\u001b[0;34m(\u001b[0m\u001b[0mX\u001b[0m\u001b[0;34m)\u001b[0m\u001b[0;34m\u001b[0m\u001b[0;34m\u001b[0m\u001b[0m\n\u001b[1;32m      7\u001b[0m \u001b[0mdata_df2\u001b[0m \u001b[0;34m=\u001b[0m \u001b[0mpd\u001b[0m\u001b[0;34m.\u001b[0m\u001b[0mconcat\u001b[0m\u001b[0;34m(\u001b[0m\u001b[0;34m[\u001b[0m\u001b[0mdata_df1\u001b[0m\u001b[0;34m,\u001b[0m \u001b[0my_actuals\u001b[0m\u001b[0;34m]\u001b[0m\u001b[0;34m,\u001b[0m \u001b[0maxis\u001b[0m\u001b[0;34m=\u001b[0m\u001b[0;36m1\u001b[0m\u001b[0;34m)\u001b[0m\u001b[0;34m\u001b[0m\u001b[0;34m\u001b[0m\u001b[0m\n",
            "\u001b[0;31mNameError\u001b[0m: name 'y_pred' is not defined"
          ]
        }
      ]
    },
    {
      "cell_type": "code",
      "metadata": {
        "colab": {
          "base_uri": "https://localhost:8080/"
        },
        "id": "VDoha_kW_MxG",
        "outputId": "bc56d368-d713-44fc-e972-2910dd0289f5"
      },
      "source": [
        "# rmse for rf\n",
        "from sklearn.   metrics import mean_squared_error\n",
        "import math\n",
        "mse = mean_squared_error(y_actuals,y_forecast)\n",
        "rmse = math.sqrt(mse)\n",
        "print(rmse)\n",
        "print(mse)"
      ],
      "execution_count": 34,
      "outputs": [
        {
          "output_type": "stream",
          "text": [
            "45.95220804618888\n",
            "2111.6054243202257\n"
          ],
          "name": "stdout"
        }
      ]
    },
    {
      "cell_type": "code",
      "metadata": {
        "id": "7_K2PXkbWN2P",
        "colab": {
          "base_uri": "https://localhost:8080/"
        },
        "outputId": "c54bbf1c-dcb0-42b4-dbf3-3661ac9903ff"
      },
      "source": [
        "# rmse for rf- test\n",
        "test['y_pred'] = regressor.predict(test1)  # test the output by changing values\n",
        "from sklearn.metrics import mean_squared_error\n",
        "import math\n",
        "mse = mean_squared_error(test['Sourcing Cost'], test['y_pred'])\n",
        "rmse = math.sqrt(mse)\n",
        "print(rmse)"
      ],
      "execution_count": 35,
      "outputs": [
        {
          "output_type": "stream",
          "text": [
            "37.03857925168565\n"
          ],
          "name": "stdout"
        },
        {
          "output_type": "stream",
          "text": [
            "/usr/local/lib/python3.7/dist-packages/ipykernel_launcher.py:2: SettingWithCopyWarning: \n",
            "A value is trying to be set on a copy of a slice from a DataFrame.\n",
            "Try using .loc[row_indexer,col_indexer] = value instead\n",
            "\n",
            "See the caveats in the documentation: https://pandas.pydata.org/pandas-docs/stable/user_guide/indexing.html#returning-a-view-versus-a-copy\n",
            "  \n"
          ],
          "name": "stderr"
        }
      ]
    },
    {
      "cell_type": "code",
      "metadata": {
        "id": "zUeNIDtQBr-Q"
      },
      "source": [
        "# converting array to pandas\n",
        "X_actuals=pd.DataFrame(X)"
      ],
      "execution_count": 24,
      "outputs": []
    },
    {
      "cell_type": "markdown",
      "metadata": {
        "id": "XgRALEyhJyCE"
      },
      "source": [
        "Light Gbm"
      ]
    },
    {
      "cell_type": "code",
      "metadata": {
        "colab": {
          "base_uri": "https://localhost:8080/"
        },
        "id": "YnnCutxNHuzE",
        "outputId": "9a3b7e83-d21b-4b30-cee2-3f459cc76c55"
      },
      "source": [
        "# import library\n",
        "from lightgbm import LGBMRegressor\n",
        "# define the model\n",
        "model = LGBMRegressor()\n",
        "# evaluate the model\n",
        "cv = RepeatedKFold(n_splits=10, n_repeats=3, random_state=1)\n",
        "n_scores = cross_val_score(model, X_actuals, y_actuals, scoring='neg_mean_absolute_error', cv=cv, n_jobs=-1, error_score='raise')\n",
        "model.fit(X_actuals, y_actuals)\n",
        "# report performance\n",
        "print('MAE: %.3f (%.3f)' % (mean(n_scores), std(n_scores)))"
      ],
      "execution_count": 26,
      "outputs": [
        {
          "output_type": "stream",
          "text": [
            "MAE: -13.104 (0.220)\n"
          ],
          "name": "stdout"
        }
      ]
    },
    {
      "cell_type": "code",
      "metadata": {
        "id": "ZxE7WNq2JxSB"
      },
      "source": [
        "# make a prediction\n",
        "y_pred = model.predict(X_actuals)\n",
        "y_forecast=pd.DataFrame(y_pred) # converting forecast to pandas frame"
      ],
      "execution_count": 27,
      "outputs": []
    },
    {
      "cell_type": "code",
      "metadata": {
        "colab": {
          "base_uri": "https://localhost:8080/"
        },
        "id": "ApIynUzYHuxM",
        "outputId": "fb241979-2cf1-41a3-ceda-39d53fe83ec7"
      },
      "source": [
        "# rmse for light gbm\n",
        "from sklearn.   metrics import mean_squared_error\n",
        "import math\n",
        "mse = mean_squared_error(y_actuals,y_forecast)\n",
        "rmse = math.sqrt(mse)\n",
        "print(rmse)\n",
        "print(mse)"
      ],
      "execution_count": 28,
      "outputs": [
        {
          "output_type": "stream",
          "text": [
            "57.27408123432829\n",
            "3280.320381236436\n"
          ],
          "name": "stdout"
        }
      ]
    },
    {
      "cell_type": "code",
      "metadata": {
        "id": "jaTEGxVOHuq-",
        "colab": {
          "base_uri": "https://localhost:8080/"
        },
        "outputId": "b9270502-c3e4-4346-d14b-25a552c55161"
      },
      "source": [
        "# rmse for rf- test\n",
        "test['y_pred'] = model.predict(test1)  # test the output by changing values\n",
        "from sklearn.metrics import mean_squared_error\n",
        "import math\n",
        "mse = mean_squared_error(test['Sourcing Cost'], test['y_pred'])\n",
        "rmse = math.sqrt(mse)\n",
        "print(rmse)"
      ],
      "execution_count": 31,
      "outputs": [
        {
          "output_type": "stream",
          "text": [
            "37.92114086509719\n"
          ],
          "name": "stdout"
        },
        {
          "output_type": "stream",
          "text": [
            "/usr/local/lib/python3.7/dist-packages/ipykernel_launcher.py:2: SettingWithCopyWarning: \n",
            "A value is trying to be set on a copy of a slice from a DataFrame.\n",
            "Try using .loc[row_indexer,col_indexer] = value instead\n",
            "\n",
            "See the caveats in the documentation: https://pandas.pydata.org/pandas-docs/stable/user_guide/indexing.html#returning-a-view-versus-a-copy\n",
            "  \n"
          ],
          "name": "stderr"
        }
      ]
    },
    {
      "cell_type": "markdown",
      "metadata": {
        "id": "WEsaaqXTeoy9"
      },
      "source": [
        "Final Conclusion\n",
        "before cleaning and detecting outliers in the datset we tried train models using RF and few models from autoML packages like pycart\n",
        "Across them RMSE values were too high\n",
        "\n",
        "For Rf there were around 92 (train) and 38 (test)\n",
        "for autoML models were around 72 as the least minimum\n",
        "\n",
        "clearly we can it is high and because of poor forecast and outlier issue and also model might be overfitting.\n",
        "\n",
        "After removing outliers using isolation forest\n",
        "we trained new dataset with rf with same hyperparameters tunning the RMSE values was 45 and test was around 37.0 hence. it improved a lot and no overfitting of the model also happened\n",
        "Hence we can use model for forecasting Jun-21"
      ]
    }
  ]
}